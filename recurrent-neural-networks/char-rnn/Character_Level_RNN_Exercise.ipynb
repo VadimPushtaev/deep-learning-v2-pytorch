{
 "cells": [
  {
   "cell_type": "markdown",
   "metadata": {},
   "source": [
    "# Character-Level LSTM in PyTorch\n",
    "\n",
    "In this notebook, I'll construct a character-level LSTM with PyTorch. The network will train character by character on some text, then generate new text character by character. As an example, I will train on Anna Karenina. **This model will be able to generate new text based on the text from the book!**\n",
    "\n",
    "This network is based off of Andrej Karpathy's [post on RNNs](http://karpathy.github.io/2015/05/21/rnn-effectiveness/) and [implementation in Torch](https://github.com/karpathy/char-rnn). Below is the general architecture of the character-wise RNN.\n",
    "\n",
    "<img src=\"./assets/charseq.jpeg\" width=\"500\">"
   ]
  },
  {
   "cell_type": "markdown",
   "metadata": {},
   "source": [
    "First let's load in our required resources for data loading and model creation."
   ]
  },
  {
   "cell_type": "code",
   "execution_count": 1,
   "metadata": {
    "ExecuteTime": {
     "end_time": "2025-02-24T22:24:40.790094Z",
     "start_time": "2025-02-24T22:24:37.248136Z"
    }
   },
   "outputs": [],
   "source": [
    "import numpy as np\n",
    "import torch\n",
    "from torch import nn\n",
    "import torch.nn.functional as F"
   ]
  },
  {
   "cell_type": "markdown",
   "metadata": {},
   "source": [
    "## Load in Data\n",
    "\n",
    "Then, we'll load the Anna Karenina text file and convert it into integers for our network to use. "
   ]
  },
  {
   "cell_type": "code",
   "execution_count": 2,
   "metadata": {
    "ExecuteTime": {
     "end_time": "2025-02-24T22:25:41.352522Z",
     "start_time": "2025-02-24T22:25:41.334762Z"
    }
   },
   "outputs": [],
   "source": [
    "# open text file and read in data as `text`\n",
    "with open('data/anna.txt', 'r') as f:\n",
    "    text = f.read()"
   ]
  },
  {
   "cell_type": "markdown",
   "metadata": {},
   "source": [
    "Let's check out the first 100 characters, make sure everything is peachy. According to the [American Book Review](http://americanbookreview.org/100bestlines.asp), this is the 6th best first line of a book ever."
   ]
  },
  {
   "cell_type": "code",
   "execution_count": 3,
   "metadata": {
    "ExecuteTime": {
     "end_time": "2025-02-24T22:25:45.919874Z",
     "start_time": "2025-02-24T22:25:45.910293Z"
    }
   },
   "outputs": [
    {
     "data": {
      "text/plain": [
       "'Chapter 1\\n\\n\\nHappy families are all alike; every unhappy family is unhappy in its own\\nway.\\n\\nEverythin'"
      ]
     },
     "execution_count": 3,
     "metadata": {},
     "output_type": "execute_result"
    }
   ],
   "source": [
    "text[:100]"
   ]
  },
  {
   "cell_type": "markdown",
   "metadata": {},
   "source": [
    "### Tokenization\n",
    "\n",
    "In the cells, below, I'm creating a couple of **dictionaries** to convert the characters to and from integers. Encoding the characters as integers makes it easier to use as input in the network."
   ]
  },
  {
   "cell_type": "code",
   "execution_count": 4,
   "metadata": {
    "ExecuteTime": {
     "end_time": "2025-02-24T22:25:50.380533Z",
     "start_time": "2025-02-24T22:25:50.179507Z"
    }
   },
   "outputs": [],
   "source": [
    "# encode the text and map each character to an integer and vice versa\n",
    "\n",
    "# we create two dictionaries:\n",
    "# 1. int2char, which maps integers to characters\n",
    "# 2. char2int, which maps characters to unique integers\n",
    "chars = tuple(set(text))\n",
    "int2char = dict(enumerate(chars))\n",
    "char2int = {ch: ii for ii, ch in int2char.items()}\n",
    "\n",
    "# encode the text\n",
    "encoded = np.array([char2int[ch] for ch in text])"
   ]
  },
  {
   "cell_type": "markdown",
   "metadata": {},
   "source": [
    "And we can see those same characters from above, encoded as integers."
   ]
  },
  {
   "cell_type": "code",
   "execution_count": 5,
   "metadata": {
    "ExecuteTime": {
     "end_time": "2025-02-24T22:25:51.941001Z",
     "start_time": "2025-02-24T22:25:51.932244Z"
    }
   },
   "outputs": [
    {
     "data": {
      "text/plain": [
       "array([13, 18,  7, 25, 46, 68, 43, 81,  9, 52, 52, 52, 56,  7, 25, 25, 45,\n",
       "       81, 70,  7, 71, 37,  2, 37, 68, 82, 81,  7, 43, 68, 81,  7,  2,  2,\n",
       "       81,  7,  2, 37, 48, 68, 11, 81, 68, 60, 68, 43, 45, 81, 10, 29, 18,\n",
       "        7, 25, 25, 45, 81, 70,  7, 71, 37,  2, 45, 81, 37, 82, 81, 10, 29,\n",
       "       18,  7, 25, 25, 45, 81, 37, 29, 81, 37, 46, 82, 81, 51, 62, 29, 52,\n",
       "       62,  7, 45, 67, 52, 52, 28, 60, 68, 43, 45, 46, 18, 37, 29])"
      ]
     },
     "execution_count": 5,
     "metadata": {},
     "output_type": "execute_result"
    }
   ],
   "source": [
    "encoded[:100]"
   ]
  },
  {
   "cell_type": "markdown",
   "metadata": {},
   "source": [
    "## Pre-processing the data\n",
    "\n",
    "As you can see in our char-RNN image above, our LSTM expects an input that is **one-hot encoded** meaning that each character is converted into an integer (via our created dictionary) and *then* converted into a column vector where only it's corresponding integer index will have the value of 1 and the rest of the vector will be filled with 0's. Since we're one-hot encoding the data, let's make a function to do that!\n"
   ]
  },
  {
   "cell_type": "code",
   "execution_count": 6,
   "metadata": {
    "ExecuteTime": {
     "end_time": "2025-02-24T22:25:58.935405Z",
     "start_time": "2025-02-24T22:25:58.930902Z"
    }
   },
   "outputs": [],
   "source": [
    "def one_hot_encode(arr, n_labels):\n",
    "    \n",
    "    # Initialize the encoded array\n",
    "    one_hot = np.zeros((arr.size, n_labels), dtype=np.float32)\n",
    "\n",
    "    # Fill the appropriate elements with ones\n",
    "    one_hot[np.arange(one_hot.shape[0]), arr.flatten()] = 1.\n",
    "    \n",
    "    # Finally reshape it to get back to the original array\n",
    "    one_hot = one_hot.reshape((*arr.shape, n_labels))\n",
    "    \n",
    "    return one_hot"
   ]
  },
  {
   "cell_type": "code",
   "execution_count": 7,
   "metadata": {
    "ExecuteTime": {
     "end_time": "2025-02-24T22:25:59.302802Z",
     "start_time": "2025-02-24T22:25:59.294679Z"
    }
   },
   "outputs": [
    {
     "name": "stdout",
     "output_type": "stream",
     "text": [
      "[[[0. 0. 0. 1. 0. 0. 0. 0.]\n",
      "  [0. 0. 0. 0. 0. 1. 0. 0.]\n",
      "  [0. 1. 0. 0. 0. 0. 0. 0.]]]\n"
     ]
    }
   ],
   "source": [
    "# check that the function works as expected\n",
    "test_seq = np.array([[3, 5, 1]])\n",
    "one_hot = one_hot_encode(test_seq, 8)\n",
    "\n",
    "print(one_hot)"
   ]
  },
  {
   "cell_type": "markdown",
   "metadata": {},
   "source": [
    "## Making training mini-batches\n",
    "\n",
    "\n",
    "To train on this data, we also want to create mini-batches for training. Remember that we want our batches to be multiple sequences of some desired number of sequence steps. Considering a simple example, our batches would look like this:\n",
    "\n",
    "<img src=\"assets/sequence_batching@1x.png\" width=500px>\n",
    "\n",
    "\n",
    "<br>\n",
    "\n",
    "In this example, we'll take the encoded characters (passed in as the `arr` parameter) and split them into multiple sequences, given by `batch_size`. Each of our sequences will be `seq_length` long.\n",
    "\n",
    "### Creating Batches\n",
    "\n",
    "**1. The first thing we need to do is discard some of the text so we only have completely full mini-batches. **\n",
    "\n",
    "Each batch contains $N \\times M$ characters, where $N$ is the batch size (the number of sequences in a batch) and $M$ is the seq_length or number of time steps in a sequence. Then, to get the total number of batches, $K$, that we can make from the array `arr`, you divide the length of `arr` by the number of characters per batch. Once you know the number of batches, you can get the total number of characters to keep from `arr`, $N * M * K$.\n",
    "\n",
    "**2. After that, we need to split `arr` into $N$ batches. ** \n",
    "\n",
    "You can do this using `arr.reshape(size)` where `size` is a tuple containing the dimensions sizes of the reshaped array. We know we want $N$ sequences in a batch, so let's make that the size of the first dimension. For the second dimension, you can use `-1` as a placeholder in the size, it'll fill up the array with the appropriate data for you. After this, you should have an array that is $N \\times (M * K)$.\n",
    "\n",
    "**3. Now that we have this array, we can iterate through it to get our mini-batches. **\n",
    "\n",
    "The idea is each batch is a $N \\times M$ window on the $N \\times (M * K)$ array. For each subsequent batch, the window moves over by `seq_length`. We also want to create both the input and target arrays. Remember that the targets are just the inputs shifted over by one character. The way I like to do this window is use `range` to take steps of size `n_steps` from $0$ to `arr.shape[1]`, the total number of tokens in each sequence. That way, the integers you get from `range` always point to the start of a batch, and each window is `seq_length` wide.\n",
    "\n",
    "> **TODO:** Write the code for creating batches in the function below. The exercises in this notebook _will not be easy_. I've provided a notebook with solutions alongside this notebook. If you get stuck, checkout the solutions. The most important thing is that you don't copy and paste the code into here, **type out the solution code yourself.**"
   ]
  },
  {
   "cell_type": "code",
   "execution_count": 70,
   "metadata": {
    "ExecuteTime": {
     "end_time": "2025-02-24T22:26:02.135439Z",
     "start_time": "2025-02-24T22:26:02.129688Z"
    }
   },
   "outputs": [],
   "source": [
    "def get_batches(arr, batch_size, seq_length):\n",
    "    '''Create a generator that returns batches of size\n",
    "       batch_size x seq_length from arr.\n",
    "       \n",
    "       Arguments\n",
    "       ---------\n",
    "       arr: Array you want to make batches from\n",
    "       batch_size: Batch size, the number of sequences per batch\n",
    "       seq_length: Number of encoded chars in a sequence\n",
    "    '''\n",
    "    \n",
    "    ## Get the number of batches we can make\n",
    "    n_batches = arr.size // (batch_size * seq_length)\n",
    "    \n",
    "    ## Keep only enough characters to make full batches\n",
    "    arr = arr[:n_batches * batch_size * seq_length]\n",
    "    \n",
    "    ## Reshape into batch_size rows\n",
    "    arr = arr.reshape(batch_size, -1)\n",
    "    \n",
    "    ## Iterate over the batches using a window of size seq_length\n",
    "    for n in range(0, arr.shape[1], seq_length):\n",
    "        # The features\n",
    "        x = arr[:, n:n + seq_length]\n",
    "        # The targets, shifted by one\n",
    "        y = arr[:, n + 1:n + seq_length + 1]\n",
    "\n",
    "        if y.shape[1] < x.shape[1]:\n",
    "            y = np.hstack((y, arr[:, [0]]))\n",
    "        \n",
    "        yield x, y"
   ]
  },
  {
   "cell_type": "markdown",
   "metadata": {},
   "source": [
    "### Test Your Implementation\n",
    "\n",
    "Now I'll make some data sets and we can check out what's going on as we batch data. Here, as an example, I'm going to use a batch size of 8 and 50 sequence steps."
   ]
  },
  {
   "cell_type": "code",
   "execution_count": 9,
   "metadata": {
    "ExecuteTime": {
     "end_time": "2025-02-24T22:26:03.697160Z",
     "start_time": "2025-02-24T22:26:03.692510Z"
    }
   },
   "outputs": [
    {
     "name": "stdout",
     "output_type": "stream",
     "text": [
      "*\n"
     ]
    }
   ],
   "source": [
    "batches = get_batches(encoded[:400], 8, 50)\n",
    "x, y = next(batches)"
   ]
  },
  {
   "cell_type": "code",
   "execution_count": 10,
   "metadata": {
    "ExecuteTime": {
     "end_time": "2025-02-24T22:26:04.428094Z",
     "start_time": "2025-02-24T22:26:04.422738Z"
    }
   },
   "outputs": [
    {
     "name": "stdout",
     "output_type": "stream",
     "text": [
      "x\n",
      " [[13 18  7 25 46 68 43 81  9 52]\n",
      " [18  7 25 25 45 81 70  7 71 37]\n",
      " [53 81 62  7 82 81 37 29 81 75]\n",
      " [70 68 81 18  7 12 52 12 37 82]\n",
      " [81  7 29 81 37 29 46 43 37 53]\n",
      " [60 68 43 29 68 82 82 81 37 29]\n",
      " [18 68 43 81 18 10 82 73  7 29]\n",
      " [81 82  7 71 68 81 18 51 10 82]]\n",
      "\n",
      "y\n",
      " [[18  7 25 46 68 43 81  9 52 52]\n",
      " [ 7 25 25 45 81 70  7 71 37  2]\n",
      " [81 62  7 82 81 37 29 81 75 51]\n",
      " [68 81 18  7 12 52 12 37 82 75]\n",
      " [ 7 29 81 37 29 46 43 37 53 10]\n",
      " [68 43 29 68 82 82 81 37 29 81]\n",
      " [68 43 81 18 10 82 73  7 29 12]\n",
      " [82  7 71 68 81 18 51 10 82 68]]\n"
     ]
    }
   ],
   "source": [
    "# printing out the first 10 items in a sequence\n",
    "print('x\\n', x[:, :10])\n",
    "print('\\ny\\n', y[:, :10])"
   ]
  },
  {
   "cell_type": "markdown",
   "metadata": {},
   "source": [
    "If you implemented `get_batches` correctly, the above output should look something like \n",
    "```\n",
    "x\n",
    " [[25  8 60 11 45 27 28 73  1  2]\n",
    " [17  7 20 73 45  8 60 45 73 60]\n",
    " [27 20 80 73  7 28 73 60 73 65]\n",
    " [17 73 45  8 27 73 66  8 46 27]\n",
    " [73 17 60 12 73  8 27 28 73 45]\n",
    " [66 64 17 17 46  7 20 73 60 20]\n",
    " [73 76 20 20 60 73  8 60 80 73]\n",
    " [47 35 43  7 20 17 24 50 37 73]]\n",
    "\n",
    "y\n",
    " [[ 8 60 11 45 27 28 73  1  2  2]\n",
    " [ 7 20 73 45  8 60 45 73 60 45]\n",
    " [20 80 73  7 28 73 60 73 65  7]\n",
    " [73 45  8 27 73 66  8 46 27 65]\n",
    " [17 60 12 73  8 27 28 73 45 27]\n",
    " [64 17 17 46  7 20 73 60 20 80]\n",
    " [76 20 20 60 73  8 60 80 73 17]\n",
    " [35 43  7 20 17 24 50 37 73 36]]\n",
    " ```\n",
    " although the exact numbers may be different. Check to make sure the data is shifted over one step for `y`."
   ]
  },
  {
   "cell_type": "markdown",
   "metadata": {},
   "source": [
    "---\n",
    "## Defining the network with PyTorch\n",
    "\n",
    "Below is where you'll define the network.\n",
    "\n",
    "<img src=\"assets/charRNN.png\" width=500px>\n",
    "\n",
    "Next, you'll use PyTorch to define the architecture of the network. We start by defining the layers and operations we want. Then, define a method for the forward pass. You've also been given a method for predicting characters."
   ]
  },
  {
   "cell_type": "markdown",
   "metadata": {},
   "source": [
    "### Model Structure\n",
    "\n",
    "In `__init__` the suggested structure is as follows:\n",
    "* Create and store the necessary dictionaries (this has been done for you)\n",
    "* Define an LSTM layer that takes as params: an input size (the number of characters), a hidden layer size `n_hidden`, a number of layers `n_layers`, a dropout probability `drop_prob`, and a batch_first boolean (True, since we are batching)\n",
    "* Define a dropout layer with `drop_prob`\n",
    "* Define a fully-connected layer with params: input size `n_hidden` and output size (the number of characters)\n",
    "* Finally, initialize the weights (again, this has been given)\n",
    "\n",
    "Note that some parameters have been named and given in the `__init__` function, and we use them and store them by doing something like `self.drop_prob = drop_prob`."
   ]
  },
  {
   "cell_type": "markdown",
   "metadata": {},
   "source": [
    "---\n",
    "### LSTM Inputs/Outputs\n",
    "\n",
    "You can create a basic [LSTM layer](https://pytorch.org/docs/stable/nn.html#lstm) as follows\n",
    "\n",
    "```python\n",
    "self.lstm = nn.LSTM(input_size, n_hidden, n_layers, \n",
    "                            dropout=drop_prob, batch_first=True)\n",
    "```\n",
    "\n",
    "where `input_size` is the number of characters this cell expects to see as sequential input, and `n_hidden` is the number of units in the hidden layers in the cell. And we can add dropout by adding a dropout parameter with a specified probability; this will automatically add dropout to the inputs or outputs. Finally, in the `forward` function, we can stack up the LSTM cells into layers using `.view`. With this, you pass in a list of cells and it will send the output of one cell into the next cell.\n",
    "\n",
    "We also need to create an initial hidden state of all zeros. This is done like so\n",
    "\n",
    "```python\n",
    "self.init_hidden()\n",
    "```"
   ]
  },
  {
   "cell_type": "code",
   "execution_count": 57,
   "metadata": {},
   "outputs": [
    {
     "name": "stdout",
     "output_type": "stream",
     "text": [
      "Training on GPU!\n"
     ]
    }
   ],
   "source": [
    "# check if GPU is available\n",
    "train_on_gpu = torch.cuda.is_available()\n",
    "if(train_on_gpu):\n",
    "    print('Training on GPU!')\n",
    "else: \n",
    "    print('No GPU available, training on CPU; consider making n_epochs very small.')"
   ]
  },
  {
   "cell_type": "code",
   "execution_count": 58,
   "metadata": {},
   "outputs": [],
   "source": [
    "class CharRNN(nn.Module):\n",
    "    \n",
    "    def __init__(self, tokens, n_hidden=256, n_layers=2,\n",
    "                               drop_prob=0.5, lr=0.001):\n",
    "        super().__init__()\n",
    "        self.drop_prob = drop_prob\n",
    "        self.n_layers = n_layers\n",
    "        self.n_hidden = n_hidden\n",
    "        self.lr = lr\n",
    "        \n",
    "        # creating character dictionaries\n",
    "        self.chars = tokens\n",
    "        self.int2char = dict(enumerate(self.chars))\n",
    "        self.char2int = {ch: ii for ii, ch in self.int2char.items()}\n",
    "\n",
    "        input_size = len(self.chars)  # due to one-hot encoding\n",
    "        \n",
    "        self.lstm = nn.LSTM(input_size, n_hidden, n_layers, dropout=drop_prob, batch_first=True)\n",
    "        self.dropout = nn.Dropout(drop_prob)\n",
    "        self.fc = nn.Linear(n_hidden, len(self.chars))\n",
    "      \n",
    "    \n",
    "    def forward(self, x, hidden):\n",
    "        ''' Forward pass through the network. \n",
    "            These inputs are x, and the hidden/cell state `hidden`. '''\n",
    "\n",
    "        r_output, hidden = self.lstm(x, hidden)\n",
    "        \n",
    "        dropout_out = self.dropout(r_output)\n",
    "        reshaped_out = dropout_out.contiguous().view(-1, self.n_hidden)\n",
    "        \n",
    "        out = self.fc(reshaped_out)\n",
    "        \n",
    "        # return the final output and the hidden state\n",
    "        return out, hidden\n",
    "    \n",
    "    \n",
    "    def init_hidden(self, batch_size):\n",
    "        ''' Initializes hidden state '''\n",
    "        # Create two new tensors with sizes n_layers x batch_size x n_hidden,\n",
    "        # initialized to zero, for hidden state and cell state of LSTM\n",
    "        weight = next(self.parameters()).data\n",
    "        \n",
    "        if (train_on_gpu):\n",
    "            hidden = (weight.new(self.n_layers, batch_size, self.n_hidden).zero_().cuda(),\n",
    "                  weight.new(self.n_layers, batch_size, self.n_hidden).zero_().cuda())\n",
    "        else:\n",
    "            hidden = (weight.new(self.n_layers, batch_size, self.n_hidden).zero_(),\n",
    "                      weight.new(self.n_layers, batch_size, self.n_hidden).zero_())\n",
    "        \n",
    "        return hidden\n",
    "        "
   ]
  },
  {
   "cell_type": "markdown",
   "metadata": {},
   "source": [
    "## Time to train\n",
    "\n",
    "The train function gives us the ability to set the number of epochs, the learning rate, and other parameters.\n",
    "\n",
    "Below we're using an Adam optimizer and cross entropy loss since we are looking at character class scores as output. We calculate the loss and perform backpropagation, as usual!\n",
    "\n",
    "A couple of details about training: \n",
    ">* Within the batch loop, we detach the hidden state from its history; this time setting it equal to a new *tuple* variable because an LSTM has a hidden state that is a tuple of the hidden and cell states.\n",
    "* We use [`clip_grad_norm_`](https://pytorch.org/docs/stable/_modules/torch/nn/utils/clip_grad.html) to help prevent exploding gradients."
   ]
  },
  {
   "cell_type": "code",
   "execution_count": 59,
   "metadata": {},
   "outputs": [],
   "source": [
    "def train(net, data, epochs=10, batch_size=10, seq_length=50, lr=0.001, clip=5, val_frac=0.1, print_every=10):\n",
    "    ''' Training a network \n",
    "    \n",
    "        Arguments\n",
    "        ---------\n",
    "        \n",
    "        net: CharRNN network\n",
    "        data: text data to train the network\n",
    "        epochs: Number of epochs to train\n",
    "        batch_size: Number of mini-sequences per mini-batch, aka batch size\n",
    "        seq_length: Number of character steps per mini-batch\n",
    "        lr: learning rate\n",
    "        clip: gradient clipping\n",
    "        val_frac: Fraction of data to hold out for validation\n",
    "        print_every: Number of steps for printing training and validation loss\n",
    "    \n",
    "    '''\n",
    "    net.train()\n",
    "    \n",
    "    opt = torch.optim.Adam(net.parameters(), lr=lr)\n",
    "    criterion = nn.CrossEntropyLoss()\n",
    "    \n",
    "    # create training and validation data\n",
    "    val_idx = int(len(data)*(1-val_frac))\n",
    "    data, val_data = data[:val_idx], data[val_idx:]\n",
    "    \n",
    "    if(train_on_gpu):\n",
    "        net.cuda()\n",
    "    \n",
    "    counter = 0\n",
    "    n_chars = len(net.chars)\n",
    "    for e in range(epochs):\n",
    "        # initialize hidden state\n",
    "        h = net.init_hidden(batch_size)\n",
    "        \n",
    "        for x, y in get_batches(data, batch_size, seq_length):\n",
    "            counter += 1\n",
    "            \n",
    "            # One-hot encode our data and make them Torch tensors\n",
    "            x = one_hot_encode(x, n_chars)\n",
    "            inputs, targets = torch.from_numpy(x), torch.from_numpy(y)\n",
    "            \n",
    "            if train_on_gpu :\n",
    "                inputs, targets = inputs.cuda(), targets.cuda()\n",
    "\n",
    "            # Creating new variables for the hidden state, otherwise\n",
    "            # we'd backprop through the entire training history\n",
    "            h = tuple([each.data for each in h])\n",
    "\n",
    "            # zero accumulated gradients\n",
    "            net.zero_grad()\n",
    "            \n",
    "            # get the output from the model\n",
    "            output, h = net(inputs, h)\n",
    "            \n",
    "            # calculate the loss and perform backprop\n",
    "            loss = criterion(output, targets.view(batch_size*seq_length).long())\n",
    "            loss.backward()\n",
    "            # `clip_grad_norm` helps prevent the exploding gradient problem in RNNs / LSTMs.\n",
    "            nn.utils.clip_grad_norm_(net.parameters(), clip)\n",
    "            opt.step()\n",
    "            \n",
    "            # loss stats\n",
    "            if counter % print_every == 0:\n",
    "                # Get validation loss\n",
    "                val_h = net.init_hidden(batch_size)\n",
    "                val_losses = []\n",
    "                net.eval()\n",
    "                for x, y in get_batches(val_data, batch_size, seq_length):\n",
    "                    # One-hot encode our data and make them Torch tensors\n",
    "                    x = one_hot_encode(x, n_chars)\n",
    "                    x, y = torch.from_numpy(x), torch.from_numpy(y)\n",
    "                    \n",
    "                    # Creating new variables for the hidden state, otherwise\n",
    "                    # we'd backprop through the entire training history\n",
    "                    val_h = tuple([each.data for each in val_h])\n",
    "                    \n",
    "                    inputs, targets = x, y\n",
    "                    if(train_on_gpu):\n",
    "                        inputs, targets = inputs.cuda(), targets.cuda()\n",
    "\n",
    "                    output, val_h = net(inputs, val_h)\n",
    "                    val_loss = criterion(output, targets.view(batch_size*seq_length).long())\n",
    "                \n",
    "                    val_losses.append(val_loss.item())\n",
    "                \n",
    "                net.train() # reset to train mode after iterationg through validation data\n",
    "                \n",
    "                print(\"Epoch: {}/{}...\".format(e+1, epochs),\n",
    "                      \"Step: {}...\".format(counter),\n",
    "                      \"Loss: {:.4f}...\".format(loss.item()),\n",
    "                      \"Val Loss: {:.4f}\".format(np.mean(val_losses)))"
   ]
  },
  {
   "cell_type": "markdown",
   "metadata": {},
   "source": [
    "## Instantiating the model\n",
    "\n",
    "Now we can actually train the network. First we'll create the network itself, with some given hyperparameters. Then, define the mini-batches sizes, and start training!"
   ]
  },
  {
   "cell_type": "code",
   "execution_count": 66,
   "metadata": {},
   "outputs": [
    {
     "name": "stdout",
     "output_type": "stream",
     "text": [
      "CharRNN(\n",
      "  (lstm): LSTM(83, 1024, num_layers=2, batch_first=True, dropout=0.51)\n",
      "  (dropout): Dropout(p=0.51, inplace=False)\n",
      "  (fc): Linear(in_features=1024, out_features=83, bias=True)\n",
      ")\n"
     ]
    }
   ],
   "source": [
    "## TODO: set your model hyperparameters\n",
    "# define and print the net\n",
    "n_hidden = 1024\n",
    "n_layers = 2\n",
    "\n",
    "net = CharRNN(chars, n_hidden, n_layers, drop_prob=0.51)\n",
    "print(net)"
   ]
  },
  {
   "cell_type": "markdown",
   "metadata": {},
   "source": [
    "### Set your training hyperparameters!"
   ]
  },
  {
   "cell_type": "code",
   "execution_count": 71,
   "metadata": {
    "scrolled": true
   },
   "outputs": [
    {
     "name": "stdout",
     "output_type": "stream",
     "text": [
      "Epoch: 1/10... Step: 10... Loss: 1.8841... Val Loss: 1.9869\n",
      "Epoch: 1/10... Step: 20... Loss: 1.9698... Val Loss: 1.9662\n",
      "Epoch: 1/10... Step: 30... Loss: 1.8391... Val Loss: 1.9471\n",
      "Epoch: 1/10... Step: 40... Loss: 1.9313... Val Loss: 1.9352\n",
      "Epoch: 1/10... Step: 50... Loss: 1.9236... Val Loss: 1.9227\n",
      "Epoch: 1/10... Step: 60... Loss: 1.8523... Val Loss: 1.9043\n",
      "Epoch: 1/10... Step: 70... Loss: 1.7782... Val Loss: 1.8941\n",
      "Epoch: 1/10... Step: 80... Loss: 1.8283... Val Loss: 1.8830\n",
      "Epoch: 1/10... Step: 90... Loss: 1.8135... Val Loss: 1.8757\n",
      "Epoch: 1/10... Step: 100... Loss: 1.8621... Val Loss: 1.8556\n",
      "Epoch: 1/10... Step: 110... Loss: 1.8097... Val Loss: 1.8504\n",
      "Epoch: 1/10... Step: 120... Loss: 1.8261... Val Loss: 1.8345\n",
      "Epoch: 1/10... Step: 130... Loss: 1.8769... Val Loss: 1.8291\n",
      "Epoch: 1/10... Step: 140... Loss: 1.7932... Val Loss: 1.8166\n",
      "Epoch: 1/10... Step: 150... Loss: 1.7408... Val Loss: 1.8117\n",
      "Epoch: 1/10... Step: 160... Loss: 1.7166... Val Loss: 1.8027\n",
      "Epoch: 1/10... Step: 170... Loss: 1.7313... Val Loss: 1.7881\n",
      "Epoch: 1/10... Step: 180... Loss: 1.7699... Val Loss: 1.7719\n",
      "Epoch: 1/10... Step: 190... Loss: 1.6785... Val Loss: 1.7645\n",
      "Epoch: 1/10... Step: 200... Loss: 1.7956... Val Loss: 1.7565\n",
      "Epoch: 1/10... Step: 210... Loss: 1.7433... Val Loss: 1.7441\n",
      "Epoch: 1/10... Step: 220... Loss: 1.6115... Val Loss: 1.7325\n",
      "Epoch: 1/10... Step: 230... Loss: 1.6886... Val Loss: 1.7308\n",
      "Epoch: 1/10... Step: 240... Loss: 1.6031... Val Loss: 1.7248\n",
      "Epoch: 1/10... Step: 250... Loss: 1.6388... Val Loss: 1.7144\n",
      "Epoch: 1/10... Step: 260... Loss: 1.6660... Val Loss: 1.7066\n",
      "Epoch: 1/10... Step: 270... Loss: 1.6747... Val Loss: 1.7079\n",
      "Epoch: 1/10... Step: 280... Loss: 1.6790... Val Loss: 1.6952\n",
      "Epoch: 1/10... Step: 290... Loss: 1.6169... Val Loss: 1.6889\n",
      "Epoch: 1/10... Step: 300... Loss: 1.5934... Val Loss: 1.6835\n",
      "Epoch: 1/10... Step: 310... Loss: 1.5336... Val Loss: 1.6754\n",
      "Epoch: 1/10... Step: 320... Loss: 1.6379... Val Loss: 1.6640\n",
      "Epoch: 1/10... Step: 330... Loss: 1.6262... Val Loss: 1.6614\n",
      "Epoch: 1/10... Step: 340... Loss: 1.5744... Val Loss: 1.6597\n",
      "Epoch: 1/10... Step: 350... Loss: 1.6048... Val Loss: 1.6573\n",
      "Epoch: 1/10... Step: 360... Loss: 1.5926... Val Loss: 1.6514\n",
      "Epoch: 1/10... Step: 370... Loss: 1.5200... Val Loss: 1.6482\n",
      "Epoch: 1/10... Step: 380... Loss: 1.6424... Val Loss: 1.6419\n",
      "Epoch: 1/10... Step: 390... Loss: 1.6288... Val Loss: 1.6386\n",
      "Epoch: 1/10... Step: 400... Loss: 1.5982... Val Loss: 1.6311\n",
      "Epoch: 1/10... Step: 410... Loss: 1.6578... Val Loss: 1.6182\n",
      "Epoch: 1/10... Step: 420... Loss: 1.5870... Val Loss: 1.6149\n",
      "Epoch: 1/10... Step: 430... Loss: 1.5484... Val Loss: 1.6113\n",
      "Epoch: 1/10... Step: 440... Loss: 1.5705... Val Loss: 1.6061\n",
      "Epoch: 1/10... Step: 450... Loss: 1.6088... Val Loss: 1.6005\n",
      "Epoch: 1/10... Step: 460... Loss: 1.5708... Val Loss: 1.5962\n",
      "Epoch: 1/10... Step: 470... Loss: 1.5218... Val Loss: 1.5913\n",
      "Epoch: 1/10... Step: 480... Loss: 1.5243... Val Loss: 1.5869\n",
      "Epoch: 1/10... Step: 490... Loss: 1.4926... Val Loss: 1.5857\n",
      "Epoch: 1/10... Step: 500... Loss: 1.5178... Val Loss: 1.5795\n",
      "Epoch: 1/10... Step: 510... Loss: 1.5052... Val Loss: 1.5778\n",
      "Epoch: 1/10... Step: 520... Loss: 1.4891... Val Loss: 1.5737\n",
      "Epoch: 1/10... Step: 530... Loss: 1.5899... Val Loss: 1.5701\n",
      "Epoch: 1/10... Step: 540... Loss: 1.5017... Val Loss: 1.5568\n",
      "Epoch: 1/10... Step: 550... Loss: 1.5454... Val Loss: 1.5598\n",
      "Epoch: 1/10... Step: 560... Loss: 1.5184... Val Loss: 1.5526\n",
      "Epoch: 1/10... Step: 570... Loss: 1.5158... Val Loss: 1.5507\n",
      "Epoch: 1/10... Step: 580... Loss: 1.5069... Val Loss: 1.5466\n",
      "Epoch: 1/10... Step: 590... Loss: 1.4358... Val Loss: 1.5527\n",
      "Epoch: 1/10... Step: 600... Loss: 1.5150... Val Loss: 1.5432\n",
      "Epoch: 1/10... Step: 610... Loss: 1.4852... Val Loss: 1.5399\n",
      "Epoch: 1/10... Step: 620... Loss: 1.4796... Val Loss: 1.5337\n",
      "Epoch: 1/10... Step: 630... Loss: 1.5742... Val Loss: 1.5312\n",
      "Epoch: 1/10... Step: 640... Loss: 1.4384... Val Loss: 1.5275\n",
      "Epoch: 1/10... Step: 650... Loss: 1.5282... Val Loss: 1.5256\n",
      "Epoch: 1/10... Step: 660... Loss: 1.4741... Val Loss: 1.5254\n",
      "Epoch: 1/10... Step: 670... Loss: 1.4635... Val Loss: 1.5249\n",
      "Epoch: 1/10... Step: 680... Loss: 1.3966... Val Loss: 1.5248\n",
      "Epoch: 1/10... Step: 690... Loss: 1.5686... Val Loss: 1.5201\n",
      "Epoch: 1/10... Step: 700... Loss: 1.4094... Val Loss: 1.5122\n",
      "Epoch: 1/10... Step: 710... Loss: 1.4051... Val Loss: 1.5120\n",
      "Epoch: 1/10... Step: 720... Loss: 1.4156... Val Loss: 1.5072\n",
      "Epoch: 1/10... Step: 730... Loss: 1.4561... Val Loss: 1.5055\n",
      "Epoch: 1/10... Step: 740... Loss: 1.4716... Val Loss: 1.5041\n",
      "Epoch: 1/10... Step: 750... Loss: 1.3388... Val Loss: 1.5003\n",
      "Epoch: 1/10... Step: 760... Loss: 1.4544... Val Loss: 1.4970\n",
      "Epoch: 1/10... Step: 770... Loss: 1.4840... Val Loss: 1.4970\n",
      "Epoch: 1/10... Step: 780... Loss: 1.4749... Val Loss: 1.4916\n",
      "Epoch: 1/10... Step: 790... Loss: 1.4973... Val Loss: 1.4869\n",
      "Epoch: 1/10... Step: 800... Loss: 1.4997... Val Loss: 1.4932\n",
      "Epoch: 1/10... Step: 810... Loss: 1.5190... Val Loss: 1.4898\n",
      "Epoch: 1/10... Step: 820... Loss: 1.4315... Val Loss: 1.4865\n",
      "Epoch: 1/10... Step: 830... Loss: 1.4417... Val Loss: 1.4816\n",
      "Epoch: 1/10... Step: 840... Loss: 1.3608... Val Loss: 1.4767\n",
      "Epoch: 1/10... Step: 850... Loss: 1.3795... Val Loss: 1.4827\n",
      "Epoch: 1/10... Step: 860... Loss: 1.3692... Val Loss: 1.4723\n",
      "Epoch: 1/10... Step: 870... Loss: 1.3339... Val Loss: 1.4728\n",
      "Epoch: 2/10... Step: 880... Loss: 1.3587... Val Loss: 1.4734\n",
      "Epoch: 2/10... Step: 890... Loss: 1.3715... Val Loss: 1.4690\n",
      "Epoch: 2/10... Step: 900... Loss: 1.3980... Val Loss: 1.4657\n",
      "Epoch: 2/10... Step: 910... Loss: 1.4069... Val Loss: 1.4632\n",
      "Epoch: 2/10... Step: 920... Loss: 1.4300... Val Loss: 1.4636\n",
      "Epoch: 2/10... Step: 930... Loss: 1.3750... Val Loss: 1.4575\n",
      "Epoch: 2/10... Step: 940... Loss: 1.4096... Val Loss: 1.4596\n",
      "Epoch: 2/10... Step: 950... Loss: 1.4316... Val Loss: 1.4570\n",
      "Epoch: 2/10... Step: 960... Loss: 1.2738... Val Loss: 1.4596\n",
      "Epoch: 2/10... Step: 970... Loss: 1.4300... Val Loss: 1.4629\n",
      "Epoch: 2/10... Step: 980... Loss: 1.3118... Val Loss: 1.4545\n",
      "Epoch: 2/10... Step: 990... Loss: 1.3785... Val Loss: 1.4498\n",
      "Epoch: 2/10... Step: 1000... Loss: 1.3654... Val Loss: 1.4510\n",
      "Epoch: 2/10... Step: 1010... Loss: 1.4244... Val Loss: 1.4454\n",
      "Epoch: 2/10... Step: 1020... Loss: 1.4043... Val Loss: 1.4431\n",
      "Epoch: 2/10... Step: 1030... Loss: 1.3187... Val Loss: 1.4409\n",
      "Epoch: 2/10... Step: 1040... Loss: 1.3502... Val Loss: 1.4375\n",
      "Epoch: 2/10... Step: 1050... Loss: 1.4083... Val Loss: 1.4363\n",
      "Epoch: 2/10... Step: 1060... Loss: 1.3686... Val Loss: 1.4332\n",
      "Epoch: 2/10... Step: 1070... Loss: 1.3480... Val Loss: 1.4288\n",
      "Epoch: 2/10... Step: 1080... Loss: 1.3311... Val Loss: 1.4291\n",
      "Epoch: 2/10... Step: 1090... Loss: 1.3500... Val Loss: 1.4446\n",
      "Epoch: 2/10... Step: 1100... Loss: 1.3595... Val Loss: 1.4243\n",
      "Epoch: 2/10... Step: 1110... Loss: 1.3482... Val Loss: 1.4291\n",
      "Epoch: 2/10... Step: 1120... Loss: 1.2912... Val Loss: 1.4254\n",
      "Epoch: 2/10... Step: 1130... Loss: 1.3258... Val Loss: 1.4194\n",
      "Epoch: 2/10... Step: 1140... Loss: 1.3581... Val Loss: 1.4213\n",
      "Epoch: 2/10... Step: 1150... Loss: 1.3913... Val Loss: 1.4168\n",
      "Epoch: 2/10... Step: 1160... Loss: 1.3414... Val Loss: 1.4148\n",
      "Epoch: 2/10... Step: 1170... Loss: 1.3672... Val Loss: 1.4132\n",
      "Epoch: 2/10... Step: 1180... Loss: 1.2631... Val Loss: 1.4181\n",
      "Epoch: 2/10... Step: 1190... Loss: 1.3546... Val Loss: 1.4171\n",
      "Epoch: 2/10... Step: 1200... Loss: 1.3145... Val Loss: 1.4139\n",
      "Epoch: 2/10... Step: 1210... Loss: 1.3123... Val Loss: 1.4138\n",
      "Epoch: 2/10... Step: 1220... Loss: 1.3424... Val Loss: 1.4159\n",
      "Epoch: 2/10... Step: 1230... Loss: 1.3159... Val Loss: 1.4159\n",
      "Epoch: 2/10... Step: 1240... Loss: 1.3675... Val Loss: 1.4115\n",
      "Epoch: 2/10... Step: 1250... Loss: 1.3300... Val Loss: 1.4116\n",
      "Epoch: 2/10... Step: 1260... Loss: 1.3386... Val Loss: 1.4083\n",
      "Epoch: 2/10... Step: 1270... Loss: 1.4196... Val Loss: 1.4109\n",
      "Epoch: 2/10... Step: 1280... Loss: 1.4078... Val Loss: 1.4082\n",
      "Epoch: 2/10... Step: 1290... Loss: 1.3754... Val Loss: 1.3995\n",
      "Epoch: 2/10... Step: 1300... Loss: 1.3552... Val Loss: 1.3970\n",
      "Epoch: 2/10... Step: 1310... Loss: 1.4307... Val Loss: 1.3978\n",
      "Epoch: 2/10... Step: 1320... Loss: 1.3448... Val Loss: 1.3979\n",
      "Epoch: 2/10... Step: 1330... Loss: 1.3109... Val Loss: 1.3957\n",
      "Epoch: 2/10... Step: 1340... Loss: 1.3019... Val Loss: 1.3973\n",
      "Epoch: 2/10... Step: 1350... Loss: 1.2612... Val Loss: 1.3937\n",
      "Epoch: 2/10... Step: 1360... Loss: 1.2963... Val Loss: 1.3960\n",
      "Epoch: 2/10... Step: 1370... Loss: 1.2976... Val Loss: 1.3961\n",
      "Epoch: 2/10... Step: 1380... Loss: 1.2700... Val Loss: 1.3937\n",
      "Epoch: 2/10... Step: 1390... Loss: 1.3008... Val Loss: 1.3928\n",
      "Epoch: 2/10... Step: 1400... Loss: 1.2386... Val Loss: 1.3906\n",
      "Epoch: 2/10... Step: 1410... Loss: 1.3725... Val Loss: 1.3897\n",
      "Epoch: 2/10... Step: 1420... Loss: 1.2813... Val Loss: 1.3858\n",
      "Epoch: 2/10... Step: 1430... Loss: 1.2853... Val Loss: 1.3830\n",
      "Epoch: 2/10... Step: 1440... Loss: 1.3035... Val Loss: 1.3859\n",
      "Epoch: 2/10... Step: 1450... Loss: 1.3138... Val Loss: 1.3812\n",
      "Epoch: 2/10... Step: 1460... Loss: 1.2793... Val Loss: 1.3840\n",
      "Epoch: 2/10... Step: 1470... Loss: 1.3020... Val Loss: 1.3858\n",
      "Epoch: 2/10... Step: 1480... Loss: 1.2472... Val Loss: 1.3849\n",
      "Epoch: 2/10... Step: 1490... Loss: 1.2649... Val Loss: 1.3780\n",
      "Epoch: 2/10... Step: 1500... Loss: 1.3162... Val Loss: 1.3750\n",
      "Epoch: 2/10... Step: 1510... Loss: 1.2873... Val Loss: 1.3806\n",
      "Epoch: 2/10... Step: 1520... Loss: 1.3826... Val Loss: 1.3781\n",
      "Epoch: 2/10... Step: 1530... Loss: 1.2767... Val Loss: 1.3770\n",
      "Epoch: 2/10... Step: 1540... Loss: 1.2973... Val Loss: 1.3810\n",
      "Epoch: 2/10... Step: 1550... Loss: 1.3098... Val Loss: 1.3798\n",
      "Epoch: 2/10... Step: 1560... Loss: 1.4335... Val Loss: 1.3739\n",
      "Epoch: 2/10... Step: 1570... Loss: 1.2799... Val Loss: 1.3774\n",
      "Epoch: 2/10... Step: 1580... Loss: 1.3355... Val Loss: 1.3726\n",
      "Epoch: 2/10... Step: 1590... Loss: 1.2708... Val Loss: 1.3779\n",
      "Epoch: 2/10... Step: 1600... Loss: 1.3586... Val Loss: 1.3727\n",
      "Epoch: 2/10... Step: 1610... Loss: 1.3066... Val Loss: 1.3760\n",
      "Epoch: 2/10... Step: 1620... Loss: 1.2785... Val Loss: 1.3754\n",
      "Epoch: 2/10... Step: 1630... Loss: 1.3766... Val Loss: 1.3687\n",
      "Epoch: 2/10... Step: 1640... Loss: 1.2367... Val Loss: 1.3749\n",
      "Epoch: 2/10... Step: 1650... Loss: 1.2466... Val Loss: 1.3718\n",
      "Epoch: 2/10... Step: 1660... Loss: 1.2709... Val Loss: 1.3682\n",
      "Epoch: 2/10... Step: 1670... Loss: 1.2530... Val Loss: 1.3658\n",
      "Epoch: 2/10... Step: 1680... Loss: 1.2908... Val Loss: 1.3664\n",
      "Epoch: 2/10... Step: 1690... Loss: 1.2490... Val Loss: 1.3698\n",
      "Epoch: 2/10... Step: 1700... Loss: 1.3266... Val Loss: 1.3654\n",
      "Epoch: 2/10... Step: 1710... Loss: 1.3083... Val Loss: 1.3605\n",
      "Epoch: 2/10... Step: 1720... Loss: 1.1794... Val Loss: 1.3584\n",
      "Epoch: 2/10... Step: 1730... Loss: 1.2111... Val Loss: 1.3612\n",
      "Epoch: 2/10... Step: 1740... Loss: 1.2570... Val Loss: 1.3555\n",
      "Epoch: 3/10... Step: 1750... Loss: 1.2230... Val Loss: 1.3553\n",
      "Epoch: 3/10... Step: 1760... Loss: 1.2985... Val Loss: 1.3577\n",
      "Epoch: 3/10... Step: 1770... Loss: 1.2098... Val Loss: 1.3551\n",
      "Epoch: 3/10... Step: 1780... Loss: 1.2565... Val Loss: 1.3512\n"
     ]
    },
    {
     "ename": "KeyboardInterrupt",
     "evalue": "",
     "output_type": "error",
     "traceback": [
      "\u001b[0;31m---------------------------------------------------------------------------\u001b[0m",
      "\u001b[0;31mKeyboardInterrupt\u001b[0m                         Traceback (most recent call last)",
      "Cell \u001b[0;32mIn[71], line 6\u001b[0m\n\u001b[1;32m      3\u001b[0m n_epochs \u001b[38;5;241m=\u001b[39m \u001b[38;5;241m10\u001b[39m \u001b[38;5;66;03m# start small if you are just testing initial behavior\u001b[39;00m\n\u001b[1;32m      5\u001b[0m \u001b[38;5;66;03m# train the model\u001b[39;00m\n\u001b[0;32m----> 6\u001b[0m \u001b[43mtrain\u001b[49m\u001b[43m(\u001b[49m\u001b[43mnet\u001b[49m\u001b[43m,\u001b[49m\u001b[43m \u001b[49m\u001b[43mencoded\u001b[49m\u001b[43m,\u001b[49m\u001b[43m \u001b[49m\u001b[43mepochs\u001b[49m\u001b[38;5;241;43m=\u001b[39;49m\u001b[43mn_epochs\u001b[49m\u001b[43m,\u001b[49m\u001b[43m \u001b[49m\u001b[43mbatch_size\u001b[49m\u001b[38;5;241;43m=\u001b[39;49m\u001b[43mbatch_size\u001b[49m\u001b[43m,\u001b[49m\u001b[43m \u001b[49m\u001b[43mseq_length\u001b[49m\u001b[38;5;241;43m=\u001b[39;49m\u001b[43mseq_length\u001b[49m\u001b[43m,\u001b[49m\u001b[43m \u001b[49m\u001b[43mlr\u001b[49m\u001b[38;5;241;43m=\u001b[39;49m\u001b[38;5;241;43m0.001\u001b[39;49m\u001b[43m,\u001b[49m\u001b[43m \u001b[49m\u001b[43mprint_every\u001b[49m\u001b[38;5;241;43m=\u001b[39;49m\u001b[38;5;241;43m10\u001b[39;49m\u001b[43m)\u001b[49m\n",
      "Cell \u001b[0;32mIn[59], line 82\u001b[0m, in \u001b[0;36mtrain\u001b[0;34m(net, data, epochs, batch_size, seq_length, lr, clip, val_frac, print_every)\u001b[0m\n\u001b[1;32m     79\u001b[0m \u001b[38;5;28;01mif\u001b[39;00m(train_on_gpu):\n\u001b[1;32m     80\u001b[0m     inputs, targets \u001b[38;5;241m=\u001b[39m inputs\u001b[38;5;241m.\u001b[39mcuda(), targets\u001b[38;5;241m.\u001b[39mcuda()\n\u001b[0;32m---> 82\u001b[0m output, val_h \u001b[38;5;241m=\u001b[39m \u001b[43mnet\u001b[49m\u001b[43m(\u001b[49m\u001b[43minputs\u001b[49m\u001b[43m,\u001b[49m\u001b[43m \u001b[49m\u001b[43mval_h\u001b[49m\u001b[43m)\u001b[49m\n\u001b[1;32m     83\u001b[0m val_loss \u001b[38;5;241m=\u001b[39m criterion(output, targets\u001b[38;5;241m.\u001b[39mview(batch_size\u001b[38;5;241m*\u001b[39mseq_length)\u001b[38;5;241m.\u001b[39mlong())\n\u001b[1;32m     85\u001b[0m val_losses\u001b[38;5;241m.\u001b[39mappend(val_loss\u001b[38;5;241m.\u001b[39mitem())\n",
      "File \u001b[0;32m~/.ve/j312/lib/python3.12/site-packages/torch/nn/modules/module.py:1739\u001b[0m, in \u001b[0;36mModule._wrapped_call_impl\u001b[0;34m(self, *args, **kwargs)\u001b[0m\n\u001b[1;32m   1737\u001b[0m     \u001b[38;5;28;01mreturn\u001b[39;00m \u001b[38;5;28mself\u001b[39m\u001b[38;5;241m.\u001b[39m_compiled_call_impl(\u001b[38;5;241m*\u001b[39margs, \u001b[38;5;241m*\u001b[39m\u001b[38;5;241m*\u001b[39mkwargs)  \u001b[38;5;66;03m# type: ignore[misc]\u001b[39;00m\n\u001b[1;32m   1738\u001b[0m \u001b[38;5;28;01melse\u001b[39;00m:\n\u001b[0;32m-> 1739\u001b[0m     \u001b[38;5;28;01mreturn\u001b[39;00m \u001b[38;5;28;43mself\u001b[39;49m\u001b[38;5;241;43m.\u001b[39;49m\u001b[43m_call_impl\u001b[49m\u001b[43m(\u001b[49m\u001b[38;5;241;43m*\u001b[39;49m\u001b[43margs\u001b[49m\u001b[43m,\u001b[49m\u001b[43m \u001b[49m\u001b[38;5;241;43m*\u001b[39;49m\u001b[38;5;241;43m*\u001b[39;49m\u001b[43mkwargs\u001b[49m\u001b[43m)\u001b[49m\n",
      "File \u001b[0;32m~/.ve/j312/lib/python3.12/site-packages/torch/nn/modules/module.py:1750\u001b[0m, in \u001b[0;36mModule._call_impl\u001b[0;34m(self, *args, **kwargs)\u001b[0m\n\u001b[1;32m   1745\u001b[0m \u001b[38;5;66;03m# If we don't have any hooks, we want to skip the rest of the logic in\u001b[39;00m\n\u001b[1;32m   1746\u001b[0m \u001b[38;5;66;03m# this function, and just call forward.\u001b[39;00m\n\u001b[1;32m   1747\u001b[0m \u001b[38;5;28;01mif\u001b[39;00m \u001b[38;5;129;01mnot\u001b[39;00m (\u001b[38;5;28mself\u001b[39m\u001b[38;5;241m.\u001b[39m_backward_hooks \u001b[38;5;129;01mor\u001b[39;00m \u001b[38;5;28mself\u001b[39m\u001b[38;5;241m.\u001b[39m_backward_pre_hooks \u001b[38;5;129;01mor\u001b[39;00m \u001b[38;5;28mself\u001b[39m\u001b[38;5;241m.\u001b[39m_forward_hooks \u001b[38;5;129;01mor\u001b[39;00m \u001b[38;5;28mself\u001b[39m\u001b[38;5;241m.\u001b[39m_forward_pre_hooks\n\u001b[1;32m   1748\u001b[0m         \u001b[38;5;129;01mor\u001b[39;00m _global_backward_pre_hooks \u001b[38;5;129;01mor\u001b[39;00m _global_backward_hooks\n\u001b[1;32m   1749\u001b[0m         \u001b[38;5;129;01mor\u001b[39;00m _global_forward_hooks \u001b[38;5;129;01mor\u001b[39;00m _global_forward_pre_hooks):\n\u001b[0;32m-> 1750\u001b[0m     \u001b[38;5;28;01mreturn\u001b[39;00m \u001b[43mforward_call\u001b[49m\u001b[43m(\u001b[49m\u001b[38;5;241;43m*\u001b[39;49m\u001b[43margs\u001b[49m\u001b[43m,\u001b[49m\u001b[43m \u001b[49m\u001b[38;5;241;43m*\u001b[39;49m\u001b[38;5;241;43m*\u001b[39;49m\u001b[43mkwargs\u001b[49m\u001b[43m)\u001b[49m\n\u001b[1;32m   1752\u001b[0m result \u001b[38;5;241m=\u001b[39m \u001b[38;5;28;01mNone\u001b[39;00m\n\u001b[1;32m   1753\u001b[0m called_always_called_hooks \u001b[38;5;241m=\u001b[39m \u001b[38;5;28mset\u001b[39m()\n",
      "Cell \u001b[0;32mIn[58], line 29\u001b[0m, in \u001b[0;36mCharRNN.forward\u001b[0;34m(self, x, hidden)\u001b[0m\n\u001b[1;32m     24\u001b[0m \u001b[38;5;250m\u001b[39m\u001b[38;5;124;03m''' Forward pass through the network. \u001b[39;00m\n\u001b[1;32m     25\u001b[0m \u001b[38;5;124;03m    These inputs are x, and the hidden/cell state `hidden`. '''\u001b[39;00m\n\u001b[1;32m     27\u001b[0m r_output, hidden \u001b[38;5;241m=\u001b[39m \u001b[38;5;28mself\u001b[39m\u001b[38;5;241m.\u001b[39mlstm(x, hidden)\n\u001b[0;32m---> 29\u001b[0m dropout_out \u001b[38;5;241m=\u001b[39m \u001b[38;5;28;43mself\u001b[39;49m\u001b[38;5;241;43m.\u001b[39;49m\u001b[43mdropout\u001b[49m\u001b[43m(\u001b[49m\u001b[43mr_output\u001b[49m\u001b[43m)\u001b[49m\n\u001b[1;32m     30\u001b[0m reshaped_out \u001b[38;5;241m=\u001b[39m dropout_out\u001b[38;5;241m.\u001b[39mcontiguous()\u001b[38;5;241m.\u001b[39mview(\u001b[38;5;241m-\u001b[39m\u001b[38;5;241m1\u001b[39m, \u001b[38;5;28mself\u001b[39m\u001b[38;5;241m.\u001b[39mn_hidden)\n\u001b[1;32m     32\u001b[0m out \u001b[38;5;241m=\u001b[39m \u001b[38;5;28mself\u001b[39m\u001b[38;5;241m.\u001b[39mfc(reshaped_out)\n",
      "File \u001b[0;32m~/.ve/j312/lib/python3.12/site-packages/torch/nn/modules/module.py:1735\u001b[0m, in \u001b[0;36mModule._wrapped_call_impl\u001b[0;34m(self, *args, **kwargs)\u001b[0m\n\u001b[1;32m   1732\u001b[0m             tracing_state\u001b[38;5;241m.\u001b[39mpop_scope()\n\u001b[1;32m   1733\u001b[0m     \u001b[38;5;28;01mreturn\u001b[39;00m result\n\u001b[0;32m-> 1735\u001b[0m \u001b[38;5;28;01mdef\u001b[39;00m\u001b[38;5;250m \u001b[39m\u001b[38;5;21m_wrapped_call_impl\u001b[39m(\u001b[38;5;28mself\u001b[39m, \u001b[38;5;241m*\u001b[39margs, \u001b[38;5;241m*\u001b[39m\u001b[38;5;241m*\u001b[39mkwargs):\n\u001b[1;32m   1736\u001b[0m     \u001b[38;5;28;01mif\u001b[39;00m \u001b[38;5;28mself\u001b[39m\u001b[38;5;241m.\u001b[39m_compiled_call_impl \u001b[38;5;129;01mis\u001b[39;00m \u001b[38;5;129;01mnot\u001b[39;00m \u001b[38;5;28;01mNone\u001b[39;00m:\n\u001b[1;32m   1737\u001b[0m         \u001b[38;5;28;01mreturn\u001b[39;00m \u001b[38;5;28mself\u001b[39m\u001b[38;5;241m.\u001b[39m_compiled_call_impl(\u001b[38;5;241m*\u001b[39margs, \u001b[38;5;241m*\u001b[39m\u001b[38;5;241m*\u001b[39mkwargs)  \u001b[38;5;66;03m# type: ignore[misc]\u001b[39;00m\n",
      "\u001b[0;31mKeyboardInterrupt\u001b[0m: "
     ]
    }
   ],
   "source": [
    "batch_size = 16\n",
    "seq_length = 128\n",
    "n_epochs = 10 # start small if you are just testing initial behavior\n",
    "\n",
    "# train the model\n",
    "train(net, encoded, epochs=n_epochs, batch_size=batch_size, seq_length=seq_length, lr=0.001, print_every=10)"
   ]
  },
  {
   "cell_type": "markdown",
   "metadata": {},
   "source": [
    "## Getting the best model\n",
    "\n",
    "To set your hyperparameters to get the best performance, you'll want to watch the training and validation losses. If your training loss is much lower than the validation loss, you're overfitting. Increase regularization (more dropout) or use a smaller network. If the training and validation losses are close, you're underfitting so you can increase the size of the network."
   ]
  },
  {
   "cell_type": "markdown",
   "metadata": {},
   "source": [
    "## Hyperparameters\n",
    "\n",
    "Here are the hyperparameters for the network.\n",
    "\n",
    "In defining the model:\n",
    "* `n_hidden` - The number of units in the hidden layers.\n",
    "* `n_layers` - Number of hidden LSTM layers to use.\n",
    "\n",
    "We assume that dropout probability and learning rate will be kept at the default, in this example.\n",
    "\n",
    "And in training:\n",
    "* `batch_size` - Number of sequences running through the network in one pass.\n",
    "* `seq_length` - Number of characters in the sequence the network is trained on. Larger is better typically, the network will learn more long range dependencies. But it takes longer to train. 100 is typically a good number here.\n",
    "* `lr` - Learning rate for training\n",
    "\n",
    "Here's some good advice from Andrej Karpathy on training the network. I'm going to copy it in here for your benefit, but also link to [where it originally came from](https://github.com/karpathy/char-rnn#tips-and-tricks).\n",
    "\n",
    "> ## Tips and Tricks\n",
    "\n",
    ">### Monitoring Validation Loss vs. Training Loss\n",
    ">If you're somewhat new to Machine Learning or Neural Networks it can take a bit of expertise to get good models. The most important quantity to keep track of is the difference between your training loss (printed during training) and the validation loss (printed once in a while when the RNN is run on the validation data (by default every 1000 iterations)). In particular:\n",
    "\n",
    "> - If your training loss is much lower than validation loss then this means the network might be **overfitting**. Solutions to this are to decrease your network size, or to increase dropout. For example you could try dropout of 0.5 and so on.\n",
    "> - If your training/validation loss are about equal then your model is **underfitting**. Increase the size of your model (either number of layers or the raw number of neurons per layer)\n",
    "\n",
    "> ### Approximate number of parameters\n",
    "\n",
    "> The two most important parameters that control the model are `n_hidden` and `n_layers`. I would advise that you always use `n_layers` of either 2/3. The `n_hidden` can be adjusted based on how much data you have. The two important quantities to keep track of here are:\n",
    "\n",
    "> - The number of parameters in your model. This is printed when you start training.\n",
    "> - The size of your dataset. 1MB file is approximately 1 million characters.\n",
    "\n",
    ">These two should be about the same order of magnitude. It's a little tricky to tell. Here are some examples:\n",
    "\n",
    "> - I have a 100MB dataset and I'm using the default parameter settings (which currently print 150K parameters). My data size is significantly larger (100 mil >> 0.15 mil), so I expect to heavily underfit. I am thinking I can comfortably afford to make `n_hidden` larger.\n",
    "> - I have a 10MB dataset and running a 10 million parameter model. I'm slightly nervous and I'm carefully monitoring my validation loss. If it's larger than my training loss then I may want to try to increase dropout a bit and see if that helps the validation loss.\n",
    "\n",
    "> ### Best models strategy\n",
    "\n",
    ">The winning strategy to obtaining very good models (if you have the compute time) is to always err on making the network larger (as large as you're willing to wait for it to compute) and then try different dropout values (between 0,1). Whatever model has the best validation performance (the loss, written in the checkpoint filename, low is good) is the one you should use in the end.\n",
    "\n",
    ">It is very common in deep learning to run many different models with many different hyperparameter settings, and in the end take whatever checkpoint gave the best validation performance.\n",
    "\n",
    ">By the way, the size of your training and validation splits are also parameters. Make sure you have a decent amount of data in your validation set or otherwise the validation performance will be noisy and not very informative."
   ]
  },
  {
   "cell_type": "markdown",
   "metadata": {},
   "source": [
    "## Checkpoint\n",
    "\n",
    "After training, we'll save the model so we can load it again later if we need too. Here I'm saving the parameters needed to create the same architecture, the hidden layer hyperparameters and the text characters."
   ]
  },
  {
   "cell_type": "code",
   "execution_count": 72,
   "metadata": {},
   "outputs": [],
   "source": [
    "# change the name, for saving multiple files\n",
    "model_name = 'rnn_x_epoch.net'\n",
    "\n",
    "checkpoint = {'n_hidden': net.n_hidden,\n",
    "              'n_layers': net.n_layers,\n",
    "              'state_dict': net.state_dict(),\n",
    "              'tokens': net.chars}\n",
    "\n",
    "with open(model_name, 'wb') as f:\n",
    "    torch.save(checkpoint, f)"
   ]
  },
  {
   "cell_type": "markdown",
   "metadata": {},
   "source": [
    "---\n",
    "## Making Predictions\n",
    "\n",
    "Now that the model is trained, we'll want to sample from it and make predictions about next characters! To sample, we pass in a character and have the network predict the next character. Then we take that character, pass it back in, and get another predicted character. Just keep doing this and you'll generate a bunch of text!\n",
    "\n",
    "### A note on the `predict`  function\n",
    "\n",
    "The output of our RNN is from a fully-connected layer and it outputs a **distribution of next-character scores**.\n",
    "\n",
    "> To actually get the next character, we apply a softmax function, which gives us a *probability* distribution that we can then sample to predict the next character.\n",
    "\n",
    "### Top K sampling\n",
    "\n",
    "Our predictions come from a categorical probability distribution over all the possible characters. We can make the sample text and make it more reasonable to handle (with less variables) by only considering some $K$ most probable characters. This will prevent the network from giving us completely absurd characters while allowing it to introduce some noise and randomness into the sampled text. Read more about [topk, here](https://pytorch.org/docs/stable/torch.html#torch.topk).\n"
   ]
  },
  {
   "cell_type": "code",
   "execution_count": 73,
   "metadata": {},
   "outputs": [],
   "source": [
    "def predict(net, char, h=None, top_k=None):\n",
    "        ''' Given a character, predict the next character.\n",
    "            Returns the predicted character and the hidden state.\n",
    "        '''\n",
    "        \n",
    "        # tensor inputs\n",
    "        x = np.array([[net.char2int[char]]])\n",
    "        x = one_hot_encode(x, len(net.chars))\n",
    "        inputs = torch.from_numpy(x)\n",
    "        \n",
    "        if(train_on_gpu):\n",
    "            inputs = inputs.cuda()\n",
    "        \n",
    "        # detach hidden state from history\n",
    "        h = tuple([each.data for each in h])\n",
    "        # get the output of the model\n",
    "        out, h = net(inputs, h)\n",
    "\n",
    "        # get the character probabilities\n",
    "        p = F.softmax(out, dim=1).data\n",
    "        if(train_on_gpu):\n",
    "            p = p.cpu() # move to cpu\n",
    "        \n",
    "        # get top characters\n",
    "        if top_k is None:\n",
    "            top_ch = np.arange(len(net.chars))\n",
    "        else:\n",
    "            p, top_ch = p.topk(top_k)\n",
    "            top_ch = top_ch.numpy().squeeze()\n",
    "        \n",
    "        # select the likely next character with some element of randomness\n",
    "        p = p.numpy().squeeze()\n",
    "        char = np.random.choice(top_ch, p=p/p.sum())\n",
    "        \n",
    "        # return the encoded value of the predicted char and the hidden state\n",
    "        return net.int2char[char], h"
   ]
  },
  {
   "cell_type": "markdown",
   "metadata": {},
   "source": [
    "### Priming and generating text \n",
    "\n",
    "Typically you'll want to prime the network so you can build up a hidden state. Otherwise the network will start out generating characters at random. In general the first bunch of characters will be a little rough since it hasn't built up a long history of characters to predict from."
   ]
  },
  {
   "cell_type": "code",
   "execution_count": 74,
   "metadata": {},
   "outputs": [],
   "source": [
    "def sample(net, size, prime='The', top_k=None):\n",
    "        \n",
    "    if(train_on_gpu):\n",
    "        net.cuda()\n",
    "    else:\n",
    "        net.cpu()\n",
    "    \n",
    "    net.eval() # eval mode\n",
    "    \n",
    "    # First off, run through the prime characters\n",
    "    chars = [ch for ch in prime]\n",
    "    h = net.init_hidden(1)\n",
    "    for ch in prime:\n",
    "        char, h = predict(net, ch, h, top_k=top_k)\n",
    "\n",
    "    chars.append(char)\n",
    "    \n",
    "    # Now pass in the previous character and get a new one\n",
    "    for ii in range(size):\n",
    "        char, h = predict(net, chars[-1], h, top_k=top_k)\n",
    "        chars.append(char)\n",
    "\n",
    "    return ''.join(chars)"
   ]
  },
  {
   "cell_type": "code",
   "execution_count": 75,
   "metadata": {},
   "outputs": [
    {
     "name": "stdout",
     "output_type": "stream",
     "text": [
      "Anna when he had seen a\n",
      "little divorce, and to spenk, as he was not serene.\n",
      "\n",
      "\"It's that he's to be a contrary is not to be deceived. What do you may be to see you, alone, and he's no sound of that marriage, but I see himself with him. He's a\n",
      "little time. Well, we shall not and me, that I should be the\n",
      "conviction of this wife.\"\n",
      "\n",
      "\"Well, what is it to be it? Will be a parter of the mannar as it is an inseppless.\n",
      "\n",
      "\"I can't believe him, all the door, there's no secretary,\" he said.\n",
      "\n",
      "\"Yes, I want all a peasant in the fact that I say to me to see you when his world\n",
      "and my\n",
      "door,\" said Levin, and with her hand to the princess to his subject, hunging at the serenion\n",
      "to himself that his husband there always drove or in his house. \"The considering\n",
      "cringly that something,\" said Stepan\n",
      "Arkadyevitch, smiling, \"though. I can't girl then what is the proven\n",
      "the continued work than you will be doing? What is there is\n",
      "that you think I have a feeling to try now all to see the soul,\n",
      "and so much a little man.\"\n",
      "\n",
      "T\n"
     ]
    }
   ],
   "source": [
    "print(sample(net, 1000, prime='Anna', top_k=5))"
   ]
  },
  {
   "cell_type": "markdown",
   "metadata": {},
   "source": [
    "## Loading a checkpoint"
   ]
  },
  {
   "cell_type": "code",
   "execution_count": 76,
   "metadata": {},
   "outputs": [
    {
     "data": {
      "text/plain": [
       "<All keys matched successfully>"
      ]
     },
     "execution_count": 76,
     "metadata": {},
     "output_type": "execute_result"
    }
   ],
   "source": [
    "# Here we have loaded in a model that trained over 20 epochs `rnn_20_epoch.net`\n",
    "with open('rnn_x_epoch.net', 'rb') as f:\n",
    "    checkpoint = torch.load(f)\n",
    "    \n",
    "loaded = CharRNN(checkpoint['tokens'], n_hidden=checkpoint['n_hidden'], n_layers=checkpoint['n_layers'])\n",
    "loaded.load_state_dict(checkpoint['state_dict'])"
   ]
  },
  {
   "cell_type": "code",
   "execution_count": 77,
   "metadata": {},
   "outputs": [
    {
     "name": "stdout",
     "output_type": "stream",
     "text": [
      "And Levin said in\n",
      "her hair, taking happiness.\n",
      "\n",
      "And she wad the conversation with her face. Showing at the matter was\n",
      "a practice and thought or so me with the person of\n",
      "the marriage in the stood in her, husband, and seried that there were a stood this that his brother with her from himself that it\n",
      "was all the first carriage in the fams, and the first discussion that\n",
      "her side to set them as a word when the confirent\n",
      "wanted to him all any difficulty that they were that the princess said again, and hearing a few wornd had been a lively offended all of her subjocken\n",
      "on her always atticuling itself, and there had suffered the was of\n",
      "the propited on him and so impossible to him. And as that the carmisise, to have a lively sorts of an\n",
      "expression of anything in his face in her hand in his face.\n",
      "\n",
      "\"Yes, but it was not so men. Her husband said the marrilge, he was\n",
      "not to be and such an oungily as in that\n",
      "man what we must an implations, and she said that I\n",
      "have not comprehending\n",
      "tears,\" he said.\n",
      "\"There's a men and him. If you must be an end to him. I want\n",
      "to see it and to say to the party; and there is nothing that that's not\n",
      "suffer, and she's a starter of the sound of the conversation. I shall say it, but it's not interested in the word\n",
      "in the previous for a was so lighted and house; but it all of hard a sense and table.\n",
      "\n",
      "\"No, not all the comprehensiol in a wifa in a child. He's the sense of this words\n",
      "in the same any out of the princess. Though, I shall not a sund as hupe\n",
      "inte ang to the colonel?\" said At haste in his husband, and at the\n",
      "left they was a cample and deceived of that though it was a lead\n",
      "and desired on the same, the second shall of the fact, with peace of\n",
      "his operistence in an and so there alone in her\n",
      "suddenly. This invering how\n",
      "he was stoppy off to bad of all of the party, where he had\n",
      "still taken in this weather with him on the father\n",
      "there were in how he had to say. He had so\n",
      "married to be seen a mempers, bat offer and the subjects of three the water of the pardy. He had no\n"
     ]
    }
   ],
   "source": [
    "# Sample using a loaded model\n",
    "print(sample(loaded, 2000, top_k=5, prime=\"And Levin said\"))"
   ]
  },
  {
   "cell_type": "code",
   "execution_count": null,
   "metadata": {
    "collapsed": true,
    "jupyter": {
     "outputs_hidden": true
    }
   },
   "outputs": [],
   "source": []
  }
 ],
 "metadata": {
  "kernelspec": {
   "display_name": "Python 3 (ipykernel)",
   "language": "python",
   "name": "python3"
  },
  "language_info": {
   "codemirror_mode": {
    "name": "ipython",
    "version": 3
   },
   "file_extension": ".py",
   "mimetype": "text/x-python",
   "name": "python",
   "nbconvert_exporter": "python",
   "pygments_lexer": "ipython3",
   "version": "3.12.5"
  }
 },
 "nbformat": 4,
 "nbformat_minor": 4
}
