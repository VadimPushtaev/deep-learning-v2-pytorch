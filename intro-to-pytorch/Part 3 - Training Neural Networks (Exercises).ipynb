{
 "cells": [
  {
   "cell_type": "markdown",
   "metadata": {},
   "source": [
    "# Training Neural Networks\n",
    "\n",
    "The network we built in the previous part isn't so smart, it doesn't know anything about our handwritten digits. Neural networks with non-linear activations work like universal function approximators. There is some function that maps your input to the output. For example, images of handwritten digits to class probabilities. The power of neural networks is that we can train them to approximate this function, and basically any function given enough data and compute time.\n",
    "\n",
    "<img src=\"assets/function_approx.png\" width=500px>\n",
    "\n",
    "At first the network is naive, it doesn't know the function mapping the inputs to the outputs. We train the network by showing it examples of real data, then adjusting the network parameters such that it approximates this function.\n",
    "\n",
    "To find these parameters, we need to know how poorly the network is predicting the real outputs. For this we calculate a **loss function** (also called the cost), a measure of our prediction error. For example, the mean squared loss is often used in regression and binary classification problems\n",
    "\n",
    "$$\n",
    "\\large \\ell = \\frac{1}{2n}\\sum_i^n{\\left(y_i - \\hat{y}_i\\right)^2}\n",
    "$$\n",
    "\n",
    "where $n$ is the number of training examples, $y_i$ are the true labels, and $\\hat{y}_i$ are the predicted labels.\n",
    "\n",
    "By minimizing this loss with respect to the network parameters, we can find configurations where the loss is at a minimum and the network is able to predict the correct labels with high accuracy. We find this minimum using a process called **gradient descent**. The gradient is the slope of the loss function and points in the direction of fastest change. To get to the minimum in the least amount of time, we then want to follow the gradient (downwards). You can think of this like descending a mountain by following the steepest slope to the base.\n",
    "\n",
    "<img src='assets/gradient_descent.png' width=350px>"
   ]
  },
  {
   "cell_type": "markdown",
   "metadata": {},
   "source": [
    "## Backpropagation\n",
    "\n",
    "For single layer networks, gradient descent is straightforward to implement. However, it's more complicated for deeper, multilayer neural networks like the one we've built. Complicated enough that it took about 30 years before researchers figured out how to train multilayer networks.\n",
    "\n",
    "Training multilayer networks is done through **backpropagation** which is really just an application of the chain rule from calculus. It's easiest to understand if we convert a two layer network into a graph representation.\n",
    "\n",
    "<img src='assets/backprop_diagram.png' width=550px>\n",
    "\n",
    "In the forward pass through the network, our data and operations go from bottom to top here. We pass the input $x$ through a linear transformation $L_1$ with weights $W_1$ and biases $b_1$. The output then goes through the sigmoid operation $S$ and another linear transformation $L_2$. Finally we calculate the loss $\\ell$. We use the loss as a measure of how bad the network's predictions are. The goal then is to adjust the weights and biases to minimize the loss.\n",
    "\n",
    "To train the weights with gradient descent, we propagate the gradient of the loss backwards through the network. Each operation has some gradient between the inputs and outputs. As we send the gradients backwards, we multiply the incoming gradient with the gradient for the operation. Mathematically, this is really just calculating the gradient of the loss with respect to the weights using the chain rule.\n",
    "\n",
    "$$\n",
    "\\large \\frac{\\partial \\ell}{\\partial W_1} = \\frac{\\partial L_1}{\\partial W_1} \\frac{\\partial S}{\\partial L_1} \\frac{\\partial L_2}{\\partial S} \\frac{\\partial \\ell}{\\partial L_2}\n",
    "$$\n",
    "\n",
    "**Note:** I'm glossing over a few details here that require some knowledge of vector calculus, but they aren't necessary to understand what's going on.\n",
    "\n",
    "We update our weights using this gradient with some learning rate $\\alpha$. \n",
    "\n",
    "$$\n",
    "\\large W^\\prime_1 = W_1 - \\alpha \\frac{\\partial \\ell}{\\partial W_1}\n",
    "$$\n",
    "\n",
    "The learning rate $\\alpha$ is set such that the weight update steps are small enough that the iterative method settles in a minimum."
   ]
  },
  {
   "cell_type": "markdown",
   "metadata": {},
   "source": [
    "## Losses in PyTorch\n",
    "\n",
    "Let's start by seeing how we calculate the loss with PyTorch. Through the `nn` module, PyTorch provides losses such as the cross-entropy loss (`nn.CrossEntropyLoss`). You'll usually see the loss assigned to `criterion`. As noted in the last part, with a classification problem such as MNIST, we're using the softmax function to predict class probabilities. With a softmax output, you want to use cross-entropy as the loss. To actually calculate the loss, you first define the criterion then pass in the output of your network and the correct labels.\n",
    "\n",
    "Something really important to note here. Looking at [the documentation for `nn.CrossEntropyLoss`](https://pytorch.org/docs/stable/nn.html#torch.nn.CrossEntropyLoss),\n",
    "\n",
    "> This criterion combines `nn.LogSoftmax()` and `nn.NLLLoss()` in one single class.\n",
    ">\n",
    "> The input is expected to contain scores for each class.\n",
    "\n",
    "This means we need to pass in the raw output of our network into the loss, not the output of the softmax function. This raw output is usually called the *logits* or *scores*. We use the logits because softmax gives you probabilities which will often be very close to zero or one but floating-point numbers can't accurately represent values near zero or one ([read more here](https://docs.python.org/3/tutorial/floatingpoint.html)). It's usually best to avoid doing calculations with probabilities, typically we use log-probabilities."
   ]
  },
  {
   "cell_type": "code",
   "execution_count": 37,
   "metadata": {},
   "outputs": [],
   "source": [
    "# The MNIST datasets are hosted on yann.lecun.com that has moved under CloudFlare protection\n",
    "# Run this script to enable the datasets download\n",
    "# Reference: https://github.com/pytorch/vision/issues/1938\n",
    "\n",
    "from six.moves import urllib\n",
    "opener = urllib.request.build_opener()\n",
    "opener.addheaders = [('User-agent', 'Mozilla/5.0')]\n",
    "urllib.request.install_opener(opener)"
   ]
  },
  {
   "cell_type": "code",
   "execution_count": 4,
   "metadata": {},
   "outputs": [],
   "source": [
    "import torch\n",
    "from torch import nn\n",
    "import torch.nn.functional as F\n",
    "from torchvision import datasets, transforms\n",
    "\n",
    "# Define a transform to normalize the data\n",
    "transform = transforms.Compose([transforms.ToTensor(),\n",
    "                                transforms.Normalize((0.5,), (0.5,)),\n",
    "                              ])\n",
    "# Download and load the training data\n",
    "trainset = datasets.MNIST('~/.pytorch/MNIST_data/', download=True, train=True, transform=transform)\n",
    "trainloader = torch.utils.data.DataLoader(trainset, batch_size=64, shuffle=True)"
   ]
  },
  {
   "cell_type": "markdown",
   "metadata": {},
   "source": [
    "### Note\n",
    "If you haven't seen `nn.Sequential` yet, please finish the end of the Part 2 notebook."
   ]
  },
  {
   "cell_type": "code",
   "execution_count": 39,
   "metadata": {},
   "outputs": [
    {
     "name": "stdout",
     "output_type": "stream",
     "text": [
      "tensor(2.3072, grad_fn=<NllLossBackward0>)\n"
     ]
    }
   ],
   "source": [
    "# Build a feed-forward network\n",
    "model = nn.Sequential(nn.Linear(784, 128),\n",
    "                      nn.ReLU(),\n",
    "                      nn.Linear(128, 64),\n",
    "                      nn.ReLU(),\n",
    "                      nn.Linear(64, 10))\n",
    "\n",
    "# Define the loss\n",
    "criterion = nn.CrossEntropyLoss()\n",
    "\n",
    "# Get our data\n",
    "dataiter = iter(trainloader)\n",
    "\n",
    "images, labels = next(dataiter)\n",
    "\n",
    "# Flatten images\n",
    "images = images.view(images.shape[0], -1)\n",
    "\n",
    "# Forward pass, get our logits\n",
    "logits = model(images)\n",
    "# Calculate the loss with the logits and the labels\n",
    "loss = criterion(logits, labels)\n",
    "\n",
    "print(loss)"
   ]
  },
  {
   "cell_type": "markdown",
   "metadata": {},
   "source": [
    "In my experience it's more convenient to build the model with a log-softmax output using `nn.LogSoftmax` or `F.log_softmax` ([documentation](https://pytorch.org/docs/stable/nn.html#torch.nn.LogSoftmax)). Then you can get the actual probabilities by taking the exponential `torch.exp(output)`. With a log-softmax output, you want to use the negative log likelihood loss, `nn.NLLLoss` ([documentation](https://pytorch.org/docs/stable/nn.html#torch.nn.NLLLoss)).\n",
    "\n",
    ">**Exercise:** Build a model that returns the log-softmax as the output and calculate the loss using the negative log likelihood loss. Note that for `nn.LogSoftmax` and `F.log_softmax` you'll need to set the `dim` keyword argument appropriately. `dim=0` calculates softmax across the rows, so each column sums to 1, while `dim=1` calculates across the columns so each row sums to 1. Think about what you want the output to be and choose `dim` appropriately."
   ]
  },
  {
   "cell_type": "code",
   "execution_count": 42,
   "metadata": {},
   "outputs": [
    {
     "name": "stdout",
     "output_type": "stream",
     "text": [
      "tensor(-0.0016, grad_fn=<NllLossBackward0>)\n",
      "[Parameter containing:\n",
      "tensor([[ 0.0346,  0.0227,  0.0192,  ..., -0.0156,  0.0100, -0.0341],\n",
      "        [-0.0106,  0.0114, -0.0268,  ...,  0.0011,  0.0133, -0.0249],\n",
      "        [ 0.0212,  0.0082, -0.0300,  ...,  0.0061,  0.0010,  0.0068],\n",
      "        ...,\n",
      "        [-0.0107,  0.0253,  0.0038,  ...,  0.0075,  0.0047,  0.0109],\n",
      "        [ 0.0294, -0.0225,  0.0269,  ...,  0.0222,  0.0344,  0.0277],\n",
      "        [-0.0247,  0.0162, -0.0092,  ..., -0.0354,  0.0338, -0.0256]],\n",
      "       requires_grad=True), Parameter containing:\n",
      "tensor([-1.5279e-02,  2.0883e-02,  2.6840e-02,  1.4652e-02,  1.2560e-02,\n",
      "         1.3386e-02, -1.4646e-02,  8.5723e-03,  1.4796e-03, -3.2969e-02,\n",
      "         3.7034e-03,  2.9747e-02,  3.4832e-02,  1.2236e-02, -1.9250e-02,\n",
      "         1.7675e-02, -7.1499e-03, -4.3009e-03, -1.7082e-03, -1.2641e-02,\n",
      "        -3.1839e-02,  2.0769e-02, -6.2296e-03,  3.2429e-02,  3.2830e-02,\n",
      "        -1.3581e-02, -1.6887e-02, -5.9960e-03,  2.7008e-02, -2.8712e-02,\n",
      "         3.0102e-02, -1.5133e-02,  4.7190e-03,  1.8720e-02, -2.1913e-02,\n",
      "         6.7605e-03, -2.7056e-02, -3.5358e-02,  1.4951e-03, -4.2900e-03,\n",
      "         1.8762e-02, -3.5477e-02,  1.1018e-02, -1.9992e-03,  1.1381e-02,\n",
      "         3.5080e-02,  3.3821e-02,  1.8281e-02, -1.0745e-03,  1.0421e-02,\n",
      "        -2.0630e-02, -1.2826e-02,  2.1237e-02,  1.9471e-02,  5.6727e-03,\n",
      "        -1.5911e-02, -5.3441e-03,  8.1211e-03,  1.3678e-02, -9.8089e-03,\n",
      "         1.7071e-02, -4.0300e-03, -1.9671e-04, -2.2853e-02,  3.4396e-02,\n",
      "         2.2405e-02, -1.7425e-02, -2.7404e-02,  1.5873e-03, -5.7713e-03,\n",
      "         2.8103e-02,  2.0835e-02,  3.2445e-02, -8.2980e-03,  3.5482e-02,\n",
      "        -2.3845e-02,  3.4276e-02,  1.8026e-02,  2.8147e-02, -2.9105e-03,\n",
      "        -2.3219e-03,  3.1602e-03,  1.4772e-02, -5.6820e-03,  1.9029e-02,\n",
      "         7.5659e-03,  3.0686e-02, -1.0518e-02, -2.2486e-03,  3.0864e-02,\n",
      "         2.2145e-02, -9.7005e-03, -1.1068e-02, -1.2716e-02, -2.4837e-02,\n",
      "        -2.8031e-02,  5.1351e-03,  1.8640e-02, -1.7323e-03, -3.1372e-03,\n",
      "         9.9731e-05,  3.2479e-03,  1.1384e-02, -3.5714e-02,  4.4245e-03,\n",
      "         6.4457e-03, -2.2386e-02, -3.2523e-02,  2.6508e-02, -8.5741e-03,\n",
      "         4.4481e-03, -1.3512e-02, -6.4554e-03,  3.5236e-02, -2.3624e-02,\n",
      "         2.9833e-02,  2.0670e-02, -2.5218e-02, -2.1908e-02,  1.2488e-02,\n",
      "        -3.2727e-02, -1.6180e-02, -1.1938e-02, -1.0099e-02, -3.1118e-02,\n",
      "        -1.1833e-02,  3.3773e-03,  2.8994e-02], requires_grad=True), Parameter containing:\n",
      "tensor([[ 0.0488, -0.0610,  0.0516,  ...,  0.0239,  0.0646, -0.0600],\n",
      "        [ 0.0286, -0.0036,  0.0370,  ..., -0.0011,  0.0416,  0.0420],\n",
      "        [-0.0047, -0.0209, -0.0717,  ..., -0.0680,  0.0243, -0.0673],\n",
      "        ...,\n",
      "        [-0.0090, -0.0147, -0.0501,  ...,  0.0398,  0.0770, -0.0196],\n",
      "        [-0.0869,  0.0091,  0.0060,  ...,  0.0811,  0.0301,  0.0177],\n",
      "        [-0.0036,  0.0156,  0.0878,  ..., -0.0158, -0.0497, -0.0320]],\n",
      "       requires_grad=True), Parameter containing:\n",
      "tensor([-0.0803, -0.0800, -0.0880,  0.0104,  0.0323,  0.0100,  0.0289,  0.0208,\n",
      "         0.0242, -0.0787, -0.0724,  0.0052, -0.0765,  0.0714, -0.0384,  0.0687,\n",
      "        -0.0251,  0.0065, -0.0710, -0.0315,  0.0727, -0.0654,  0.0245,  0.0883,\n",
      "         0.0313,  0.0288,  0.0073, -0.0751, -0.0440, -0.0124, -0.0161,  0.0477,\n",
      "        -0.0834, -0.0365,  0.0284,  0.0590, -0.0116, -0.0037,  0.0283,  0.0758,\n",
      "         0.0569, -0.0222, -0.0428, -0.0005,  0.0353, -0.0575, -0.0122, -0.0834,\n",
      "        -0.0690, -0.0702,  0.0431, -0.0591,  0.0018,  0.0046,  0.0652, -0.0620,\n",
      "         0.0226,  0.0091, -0.0591, -0.0250, -0.0343, -0.0595, -0.0320,  0.0844],\n",
      "       requires_grad=True), Parameter containing:\n",
      "tensor([[ 0.1152, -0.0780,  0.0438, -0.0843,  0.0500, -0.0359,  0.0294,  0.0728,\n",
      "          0.0097,  0.0069,  0.0724,  0.0215,  0.1006, -0.0913,  0.0545, -0.1131,\n",
      "          0.0356,  0.0329,  0.0866, -0.0756,  0.0245, -0.0212, -0.0104,  0.1041,\n",
      "          0.0513, -0.0732,  0.0542,  0.1168, -0.0839, -0.0652, -0.0853,  0.0117,\n",
      "          0.0078,  0.0222, -0.0832, -0.0454,  0.0865, -0.0601,  0.0337,  0.0434,\n",
      "         -0.0927,  0.0217,  0.0647, -0.0227, -0.1239, -0.0182, -0.1236, -0.0725,\n",
      "          0.0765,  0.0340,  0.0037,  0.0246, -0.1136, -0.0370,  0.0370,  0.0576,\n",
      "          0.1166, -0.0986,  0.0108, -0.1048, -0.0515, -0.0747, -0.0923,  0.0078],\n",
      "        [-0.0187,  0.1021,  0.0826,  0.0115,  0.1083, -0.0004,  0.0953, -0.0066,\n",
      "          0.1094,  0.0253,  0.0937, -0.0239,  0.0173, -0.0582, -0.0975, -0.0576,\n",
      "         -0.0733, -0.0718, -0.0804,  0.0012, -0.0133, -0.0270,  0.0860, -0.1111,\n",
      "          0.0427,  0.1005, -0.1135, -0.1188,  0.0318,  0.0880,  0.0637,  0.0278,\n",
      "         -0.0241, -0.0090,  0.0566, -0.0755,  0.0334,  0.0550,  0.0314,  0.0578,\n",
      "          0.0919,  0.0820,  0.0942, -0.0349, -0.0052, -0.0490, -0.0172, -0.0996,\n",
      "          0.0946,  0.0431,  0.1227,  0.0040,  0.0816, -0.0601,  0.1158, -0.0006,\n",
      "          0.0424, -0.0452,  0.0997,  0.0131,  0.0116, -0.0086,  0.0899, -0.0865],\n",
      "        [ 0.0426,  0.1188,  0.0149, -0.0524, -0.0966,  0.0854, -0.0059,  0.0323,\n",
      "          0.1101, -0.1243, -0.0035,  0.0460,  0.0973, -0.0051,  0.0023,  0.0162,\n",
      "          0.0488,  0.1219, -0.0359,  0.1162, -0.1004, -0.0056,  0.0878,  0.0159,\n",
      "          0.0692, -0.0883,  0.0579,  0.1092, -0.0003,  0.0774,  0.0607, -0.0985,\n",
      "          0.0207, -0.0925,  0.0491,  0.1221,  0.0200, -0.0207, -0.1196, -0.0877,\n",
      "          0.0237, -0.0042, -0.0245,  0.1058, -0.0694, -0.0234, -0.0097,  0.0213,\n",
      "         -0.0780,  0.1042,  0.0407, -0.0235, -0.0806,  0.1206,  0.0185,  0.0027,\n",
      "         -0.0637, -0.0249, -0.0250,  0.0598,  0.0181, -0.0526,  0.0231, -0.0652],\n",
      "        [-0.0225, -0.0469,  0.1031,  0.0673, -0.1160,  0.1023,  0.1205,  0.0647,\n",
      "          0.0529, -0.0044,  0.0731,  0.1207, -0.0481, -0.0337, -0.0533, -0.0512,\n",
      "         -0.0125, -0.0434, -0.0031,  0.1070, -0.0956,  0.0660,  0.0689,  0.0523,\n",
      "          0.1134, -0.0858, -0.1086,  0.0489,  0.0190,  0.0025,  0.0458,  0.0372,\n",
      "          0.0658,  0.0733,  0.0462,  0.0956, -0.0307,  0.0842,  0.0454, -0.0428,\n",
      "          0.0796, -0.0959,  0.0018,  0.0329, -0.0795,  0.0896,  0.0370,  0.0927,\n",
      "          0.0571,  0.0428,  0.0381, -0.0646,  0.1043, -0.1072, -0.0027,  0.0567,\n",
      "         -0.0916,  0.1211,  0.0005, -0.0409,  0.0582,  0.0937, -0.0147, -0.0179],\n",
      "        [ 0.0488,  0.0840,  0.0306, -0.0025, -0.0679,  0.0951, -0.1199, -0.1061,\n",
      "          0.0955,  0.0765, -0.0619, -0.0656,  0.0526,  0.0013,  0.0089, -0.0885,\n",
      "         -0.1024,  0.0238,  0.1097,  0.0958, -0.0189,  0.0842,  0.0435,  0.1162,\n",
      "          0.0961,  0.0862,  0.0114, -0.1150, -0.0384, -0.1093, -0.0292,  0.1204,\n",
      "         -0.0445,  0.0728, -0.0359, -0.0450,  0.0957, -0.0501,  0.0030,  0.0179,\n",
      "          0.0052,  0.0071, -0.0484, -0.0087,  0.1177,  0.0424,  0.1074, -0.0374,\n",
      "          0.0836,  0.0625, -0.1008, -0.0991,  0.0442, -0.0999,  0.1212,  0.0315,\n",
      "          0.0107,  0.0053,  0.0940,  0.1054,  0.0952, -0.0345,  0.0327,  0.0686],\n",
      "        [-0.1080, -0.0900, -0.0778, -0.0956, -0.0054,  0.1022, -0.0861,  0.0519,\n",
      "         -0.0046,  0.0355, -0.0758,  0.0461,  0.1072, -0.1094,  0.1147, -0.0607,\n",
      "          0.0028, -0.1093, -0.0234, -0.0375, -0.1228,  0.0418, -0.0961, -0.1137,\n",
      "          0.0199,  0.0476, -0.0769,  0.0851, -0.0472, -0.0891, -0.0037, -0.1021,\n",
      "         -0.1123,  0.0991,  0.0959, -0.0425, -0.0511,  0.0889, -0.0187,  0.0238,\n",
      "          0.1247, -0.0491,  0.0747, -0.0856, -0.1069,  0.0739, -0.0130,  0.0850,\n",
      "          0.0179, -0.0606,  0.0671, -0.1119,  0.0745,  0.0226, -0.0525,  0.0899,\n",
      "         -0.0087,  0.0736,  0.0927,  0.0485,  0.0975, -0.0698, -0.1064, -0.0679],\n",
      "        [-0.0381, -0.0878, -0.0775,  0.0775,  0.0524,  0.0629,  0.0570, -0.0589,\n",
      "         -0.0380,  0.1180, -0.0834,  0.1167, -0.0246,  0.0811, -0.0027, -0.0810,\n",
      "         -0.0263,  0.0736, -0.0852, -0.0427,  0.1158, -0.0805, -0.0018,  0.0286,\n",
      "          0.0878, -0.0808,  0.1247, -0.1057,  0.0496, -0.1057, -0.0177, -0.0630,\n",
      "          0.0419,  0.0743,  0.0863, -0.0728,  0.1210, -0.0320, -0.0531, -0.0797,\n",
      "          0.0162,  0.0296, -0.1057,  0.0748,  0.0873, -0.1198, -0.0208, -0.0787,\n",
      "          0.0493, -0.0687, -0.1087, -0.0456,  0.1068,  0.0128, -0.0772,  0.0082,\n",
      "         -0.0748, -0.0763,  0.1167, -0.0318,  0.0452,  0.0599, -0.0981, -0.0508],\n",
      "        [ 0.1134,  0.0080,  0.0801, -0.1235,  0.1101,  0.0090, -0.0231, -0.0432,\n",
      "         -0.1166,  0.1216,  0.1248, -0.0887,  0.0997, -0.0659,  0.0487,  0.0152,\n",
      "          0.0724, -0.1020,  0.0254,  0.0304,  0.0088, -0.1138, -0.0288, -0.0875,\n",
      "         -0.0062, -0.0515, -0.0312, -0.0656, -0.1089,  0.0809, -0.0056, -0.0978,\n",
      "         -0.1015,  0.1074, -0.0573,  0.0588, -0.0327, -0.0768, -0.0602,  0.0681,\n",
      "         -0.1166, -0.0908,  0.0225, -0.0209,  0.0964,  0.0209,  0.1023, -0.0922,\n",
      "         -0.1058, -0.0396,  0.0146, -0.0670,  0.0056,  0.0542,  0.0185,  0.0172,\n",
      "          0.0082,  0.0967,  0.0430, -0.0086, -0.0667, -0.1169, -0.1214,  0.0690],\n",
      "        [ 0.0073,  0.0733, -0.0804, -0.0598,  0.0482, -0.0495, -0.0547,  0.1158,\n",
      "         -0.0204,  0.1016,  0.0768, -0.0293,  0.1127, -0.0161,  0.1040,  0.1154,\n",
      "          0.1161,  0.0271, -0.0869,  0.0077,  0.0777, -0.0093, -0.0663,  0.0140,\n",
      "          0.0937,  0.0281,  0.0631, -0.0687, -0.0295, -0.1029,  0.0952,  0.1100,\n",
      "         -0.1159, -0.0237, -0.0178,  0.0464, -0.0768, -0.0609,  0.0367, -0.0868,\n",
      "         -0.0118, -0.0648,  0.0822,  0.1119,  0.0193,  0.0818,  0.1186, -0.0818,\n",
      "         -0.0415,  0.1248, -0.0615,  0.0808, -0.0929, -0.1080,  0.0792, -0.0128,\n",
      "         -0.1234,  0.0576,  0.0676, -0.0659, -0.1068,  0.1075, -0.0747,  0.0177],\n",
      "        [ 0.1077,  0.1217,  0.0554,  0.0330, -0.0801, -0.0015, -0.0264,  0.0488,\n",
      "         -0.0023,  0.0632, -0.1096, -0.0253, -0.0446, -0.1140, -0.0465, -0.1182,\n",
      "         -0.0063, -0.0324,  0.0654, -0.0142,  0.0463, -0.0578, -0.0323, -0.0277,\n",
      "         -0.0806,  0.0730, -0.0299, -0.0644,  0.0577,  0.0451,  0.1084, -0.0868,\n",
      "         -0.0835,  0.0521,  0.0162, -0.0192,  0.0948,  0.1130, -0.0325,  0.1016,\n",
      "          0.0914, -0.0642,  0.1029, -0.0147,  0.1129,  0.0964,  0.0109,  0.1023,\n",
      "         -0.0036, -0.0783,  0.1111, -0.0016,  0.1007,  0.0826,  0.1193,  0.0199,\n",
      "         -0.0487,  0.0322, -0.1009, -0.0344,  0.0837,  0.0506, -0.0596,  0.0786]],\n",
      "       requires_grad=True), Parameter containing:\n",
      "tensor([ 0.0472, -0.0462, -0.0126,  0.0247,  0.0178, -0.1038, -0.1204, -0.0226,\n",
      "        -0.0604,  0.1159], requires_grad=True)]\n"
     ]
    }
   ],
   "source": [
    "# Build a feed-forward network\n",
    "model = nn.Sequential(\n",
    "    nn.Linear(784, 128),\n",
    "    nn.ReLU(),\n",
    "    nn.Linear(128, 64),\n",
    "    nn.ReLU(),\n",
    "    nn.Linear(64, 10),\n",
    "    nn.Softmax(dim=1),\n",
    ")\n",
    "\n",
    "# Define the loss\n",
    "criterion = nn.NLLLoss()\n",
    "\n",
    "### Run this to check your work\n",
    "# Get our data\n",
    "dataiter = iter(trainloader)\n",
    "\n",
    "images, labels = next(dataiter)\n",
    "\n",
    "# Flatten images\n",
    "images = images.view(images.shape[0], -1)\n",
    "\n",
    "# Forward pass, get our logits\n",
    "logps = model(images)\n",
    "# Calculate the loss with the logits and the labels\n",
    "loss = criterion(logits, labels)\n",
    "\n",
    "print(loss)\n",
    "print(list(model.parameters()))"
   ]
  },
  {
   "cell_type": "markdown",
   "metadata": {},
   "source": [
    "## Autograd\n",
    "\n",
    "Now that we know how to calculate a loss, how do we use it to perform backpropagation? Torch provides a module, `autograd`, for automatically calculating the gradients of tensors. We can use it to calculate the gradients of all our parameters with respect to the loss. Autograd works by keeping track of operations performed on tensors, then going backwards through those operations, calculating gradients along the way. To make sure PyTorch keeps track of operations on a tensor and calculates the gradients, you need to set `requires_grad = True` on a tensor. You can do this at creation with the `requires_grad` keyword, or at any time with `x.requires_grad_(True)`.\n",
    "\n",
    "You can turn off gradients for a block of code with the `torch.no_grad()` content:\n",
    "```python\n",
    "x = torch.zeros(1, requires_grad=True)\n",
    ">>> with torch.no_grad():\n",
    "...     y = x * 2\n",
    ">>> y.requires_grad\n",
    "False\n",
    "```\n",
    "\n",
    "Also, you can turn on or off gradients altogether with `torch.set_grad_enabled(True|False)`.\n",
    "\n",
    "The gradients are computed with respect to some variable `z` with `z.backward()`. This does a backward pass through the operations that created `z`."
   ]
  },
  {
   "cell_type": "code",
   "execution_count": 43,
   "metadata": {},
   "outputs": [
    {
     "name": "stdout",
     "output_type": "stream",
     "text": [
      "tensor([[ 0.7004, -0.4078],\n",
      "        [ 0.2041,  0.1833]], requires_grad=True)\n"
     ]
    }
   ],
   "source": [
    "x = torch.randn(2,2, requires_grad=True)\n",
    "print(x)"
   ]
  },
  {
   "cell_type": "code",
   "execution_count": 44,
   "metadata": {},
   "outputs": [
    {
     "name": "stdout",
     "output_type": "stream",
     "text": [
      "tensor([[0.4906, 0.1663],\n",
      "        [0.0417, 0.0336]], grad_fn=<PowBackward0>)\n"
     ]
    }
   ],
   "source": [
    "y = x**2\n",
    "print(y)"
   ]
  },
  {
   "cell_type": "markdown",
   "metadata": {},
   "source": [
    "Below we can see the operation that created `y`, a power operation `PowBackward0`."
   ]
  },
  {
   "cell_type": "code",
   "execution_count": 45,
   "metadata": {},
   "outputs": [
    {
     "name": "stdout",
     "output_type": "stream",
     "text": [
      "<PowBackward0 object at 0x7f57008bac70>\n"
     ]
    }
   ],
   "source": [
    "## grad_fn shows the function that generated this variable\n",
    "print(y.grad_fn)"
   ]
  },
  {
   "cell_type": "markdown",
   "metadata": {},
   "source": [
    "The autograd module keeps track of these operations and knows how to calculate the gradient for each one. In this way, it's able to calculate the gradients for a chain of operations, with respect to any one tensor. Let's reduce the tensor `y` to a scalar value, the mean."
   ]
  },
  {
   "cell_type": "code",
   "execution_count": 46,
   "metadata": {},
   "outputs": [
    {
     "name": "stdout",
     "output_type": "stream",
     "text": [
      "tensor(0.1830, grad_fn=<MeanBackward0>)\n"
     ]
    }
   ],
   "source": [
    "z = y.mean()\n",
    "print(z)"
   ]
  },
  {
   "cell_type": "markdown",
   "metadata": {},
   "source": [
    "You can check the gradients for `x` and `y` but they are empty currently."
   ]
  },
  {
   "cell_type": "code",
   "execution_count": 47,
   "metadata": {},
   "outputs": [
    {
     "name": "stdout",
     "output_type": "stream",
     "text": [
      "None\n"
     ]
    }
   ],
   "source": [
    "print(x.grad)"
   ]
  },
  {
   "cell_type": "markdown",
   "metadata": {},
   "source": [
    "To calculate the gradients, you need to run the `.backward` method on a Variable, `z` for example. This will calculate the gradient for `z` with respect to `x`\n",
    "\n",
    "$$\n",
    "\\frac{\\partial z}{\\partial x} = \\frac{\\partial}{\\partial x}\\left[\\frac{1}{n}\\sum_i^n x_i^2\\right] = \\frac{x}{2}\n",
    "$$"
   ]
  },
  {
   "cell_type": "code",
   "execution_count": 48,
   "metadata": {},
   "outputs": [
    {
     "name": "stdout",
     "output_type": "stream",
     "text": [
      "tensor([[ 0.3502, -0.2039],\n",
      "        [ 0.1020,  0.0917]])\n",
      "tensor([[ 0.3502, -0.2039],\n",
      "        [ 0.1020,  0.0917]], grad_fn=<DivBackward0>)\n"
     ]
    }
   ],
   "source": [
    "z.backward()\n",
    "print(x.grad)\n",
    "print(x/2)"
   ]
  },
  {
   "cell_type": "markdown",
   "metadata": {},
   "source": [
    "These gradients calculations are particularly useful for neural networks. For training we need the gradients of the cost with respect to the weights. With PyTorch, we run data forward through the network to calculate the loss, then, go backwards to calculate the gradients with respect to the loss. Once we have the gradients we can make a gradient descent step. "
   ]
  },
  {
   "cell_type": "markdown",
   "metadata": {},
   "source": [
    "## Loss and Autograd together\n",
    "\n",
    "When we create a network with PyTorch, all of the parameters are initialized with `requires_grad = True`. This means that when we calculate the loss and call `loss.backward()`, the gradients for the parameters are calculated. These gradients are used to update the weights with gradient descent. Below you can see an example of calculating the gradients using a backwards pass."
   ]
  },
  {
   "cell_type": "code",
   "execution_count": 49,
   "metadata": {},
   "outputs": [],
   "source": [
    "# Build a feed-forward network\n",
    "model = nn.Sequential(nn.Linear(784, 128),\n",
    "                      nn.ReLU(),\n",
    "                      nn.Linear(128, 64),\n",
    "                      nn.ReLU(),\n",
    "                      nn.Linear(64, 10),\n",
    "                      nn.LogSoftmax(dim=1))\n",
    "\n",
    "criterion = nn.NLLLoss()\n",
    "dataiter = iter(trainloader)\n",
    "images, labels = next(dataiter)\n",
    "images = images.view(images.shape[0], -1)\n",
    "\n",
    "logits = model(images)\n",
    "loss = criterion(logits, labels)"
   ]
  },
  {
   "cell_type": "code",
   "execution_count": 50,
   "metadata": {},
   "outputs": [
    {
     "name": "stdout",
     "output_type": "stream",
     "text": [
      "Before backward pass: \n",
      " None\n",
      "After backward pass: \n",
      " tensor([[ 0.0026,  0.0026,  0.0026,  ...,  0.0026,  0.0026,  0.0026],\n",
      "        [ 0.0000,  0.0000,  0.0000,  ...,  0.0000,  0.0000,  0.0000],\n",
      "        [-0.0007, -0.0007, -0.0007,  ..., -0.0007, -0.0007, -0.0007],\n",
      "        ...,\n",
      "        [-0.0031, -0.0031, -0.0031,  ..., -0.0031, -0.0031, -0.0031],\n",
      "        [-0.0048, -0.0048, -0.0048,  ..., -0.0048, -0.0048, -0.0048],\n",
      "        [-0.0055, -0.0055, -0.0055,  ..., -0.0055, -0.0055, -0.0055]])\n"
     ]
    }
   ],
   "source": [
    "print('Before backward pass: \\n', model[0].weight.grad)\n",
    "\n",
    "loss.backward()\n",
    "\n",
    "print('After backward pass: \\n', model[0].weight.grad)"
   ]
  },
  {
   "cell_type": "markdown",
   "metadata": {},
   "source": [
    "## Training the network!\n",
    "\n",
    "There's one last piece we need to start training, an optimizer that we'll use to update the weights with the gradients. We get these from PyTorch's [`optim` package](https://pytorch.org/docs/stable/optim.html). For example we can use stochastic gradient descent with `optim.SGD`. You can see how to define an optimizer below."
   ]
  },
  {
   "cell_type": "code",
   "execution_count": 51,
   "metadata": {},
   "outputs": [],
   "source": [
    "from torch import optim\n",
    "\n",
    "# Optimizers require the parameters to optimize and a learning rate\n",
    "optimizer = optim.SGD(model.parameters(), lr=0.01)"
   ]
  },
  {
   "cell_type": "markdown",
   "metadata": {},
   "source": [
    "Now we know how to use all the individual parts so it's time to see how they work together. Let's consider just one learning step before looping through all the data. The general process with PyTorch:\n",
    "\n",
    "* Make a forward pass through the network \n",
    "* Use the network output to calculate the loss\n",
    "* Perform a backward pass through the network with `loss.backward()` to calculate the gradients\n",
    "* Take a step with the optimizer to update the weights\n",
    "\n",
    "Below I'll go through one training step and print out the weights and gradients so you can see how it changes. Note that I have a line of code `optimizer.zero_grad()`. When you do multiple backwards passes with the same parameters, the gradients are accumulated. This means that you need to zero the gradients on each training pass or you'll retain gradients from previous training batches."
   ]
  },
  {
   "cell_type": "code",
   "execution_count": 52,
   "metadata": {},
   "outputs": [
    {
     "name": "stdout",
     "output_type": "stream",
     "text": [
      "Initial weights -  Parameter containing:\n",
      "tensor([[ 0.0354,  0.0087, -0.0073,  ...,  0.0073,  0.0316, -0.0071],\n",
      "        [-0.0227, -0.0288,  0.0010,  ...,  0.0297,  0.0214, -0.0305],\n",
      "        [ 0.0298, -0.0120,  0.0123,  ...,  0.0031, -0.0115, -0.0053],\n",
      "        ...,\n",
      "        [-0.0065,  0.0199, -0.0282,  ..., -0.0215,  0.0145, -0.0041],\n",
      "        [-0.0265, -0.0056, -0.0330,  ..., -0.0061,  0.0166, -0.0094],\n",
      "        [-0.0275,  0.0217, -0.0133,  ..., -0.0221, -0.0031, -0.0348]],\n",
      "       requires_grad=True)\n",
      "Gradient - tensor([[ 0.0055,  0.0055,  0.0055,  ...,  0.0055,  0.0055,  0.0055],\n",
      "        [ 0.0000,  0.0000,  0.0000,  ...,  0.0000,  0.0000,  0.0000],\n",
      "        [ 0.0000,  0.0000,  0.0000,  ...,  0.0000,  0.0000,  0.0000],\n",
      "        ...,\n",
      "        [ 0.0017,  0.0017,  0.0017,  ...,  0.0017,  0.0017,  0.0017],\n",
      "        [-0.0032, -0.0032, -0.0032,  ..., -0.0032, -0.0032, -0.0032],\n",
      "        [-0.0024, -0.0024, -0.0024,  ..., -0.0024, -0.0024, -0.0024]])\n"
     ]
    }
   ],
   "source": [
    "print('Initial weights - ', model[0].weight)\n",
    "\n",
    "dataiter = iter(trainloader)\n",
    "images, labels = next(dataiter)\n",
    "images.resize_(64, 784)\n",
    "\n",
    "# Clear the gradients, do this because gradients are accumulated\n",
    "optimizer.zero_grad()\n",
    "\n",
    "# Forward pass, then backward pass, then update weights\n",
    "output = model(images)\n",
    "loss = criterion(output, labels)\n",
    "loss.backward()\n",
    "print('Gradient -', model[0].weight.grad)"
   ]
  },
  {
   "cell_type": "code",
   "execution_count": 53,
   "metadata": {},
   "outputs": [
    {
     "name": "stdout",
     "output_type": "stream",
     "text": [
      "Updated weights -  Parameter containing:\n",
      "tensor([[ 0.0354,  0.0086, -0.0073,  ...,  0.0072,  0.0315, -0.0072],\n",
      "        [-0.0227, -0.0288,  0.0010,  ...,  0.0297,  0.0214, -0.0305],\n",
      "        [ 0.0298, -0.0120,  0.0123,  ...,  0.0031, -0.0115, -0.0053],\n",
      "        ...,\n",
      "        [-0.0066,  0.0198, -0.0282,  ..., -0.0216,  0.0145, -0.0041],\n",
      "        [-0.0265, -0.0056, -0.0330,  ..., -0.0060,  0.0166, -0.0094],\n",
      "        [-0.0275,  0.0217, -0.0133,  ..., -0.0221, -0.0031, -0.0348]],\n",
      "       requires_grad=True)\n"
     ]
    }
   ],
   "source": [
    "# Take an update step and view the new weights\n",
    "optimizer.step()\n",
    "print('Updated weights - ', model[0].weight)"
   ]
  },
  {
   "cell_type": "markdown",
   "metadata": {},
   "source": [
    "### Training for real\n",
    "\n",
    "Now we'll put this algorithm into a loop so we can go through all the images. Some nomenclature, one pass through the entire dataset is called an *epoch*. So here we're going to loop through `trainloader` to get our training batches. For each batch, we'll be doing a training pass where we calculate the loss, do a backwards pass, and update the weights.\n",
    "\n",
    ">**Exercise:** Implement the training pass for our network. If you implemented it correctly, you should see the training loss drop with each epoch."
   ]
  },
  {
   "cell_type": "code",
   "execution_count": 21,
   "metadata": {},
   "outputs": [],
   "source": [
    "def train_epoch(epoch, *, trainloader, model, optimizer):\n",
    "    print('epoch = ', epoch)\n",
    "    running_loss = 0\n",
    "    for images, labels in trainloader:\n",
    "        # Flatten MNIST images into a 784 long vector\n",
    "        images = images.view(images.shape[0], -1)\n",
    "    \n",
    "        # TODO: Training pass\n",
    "        optimizer.zero_grad()\n",
    "        output = model(images)\n",
    "        loss = criterion(output, labels)\n",
    "        loss.backward()\n",
    "        optimizer.step()\n",
    "        \n",
    "        running_loss += loss.item()\n",
    "    print(f\"Training loss: {running_loss/len(trainloader)}\")"
   ]
  },
  {
   "cell_type": "code",
   "execution_count": 22,
   "metadata": {},
   "outputs": [
    {
     "name": "stdout",
     "output_type": "stream",
     "text": [
      "epoch =  0\n",
      "Training loss: 1.8714775196524824\n",
      "epoch =  1\n",
      "Training loss: 0.8411163674679392\n",
      "epoch =  2\n",
      "Training loss: 0.5252622156096166\n",
      "epoch =  3\n",
      "Training loss: 0.42895797970516086\n",
      "epoch =  4\n",
      "Training loss: 0.3834100598370088\n"
     ]
    }
   ],
   "source": [
    "## Your solution here\n",
    "from torch import nn, optim\n",
    "\n",
    "model = nn.Sequential(nn.Linear(784, 128),\n",
    "                      nn.ReLU(),\n",
    "                      nn.Linear(128, 64),\n",
    "                      nn.ReLU(),\n",
    "                      nn.Linear(64, 10),\n",
    "                      nn.LogSoftmax(dim=1))\n",
    "\n",
    "criterion = nn.NLLLoss()\n",
    "optimizer = optim.SGD(model.parameters(), lr=0.003)\n",
    "\n",
    "epochs = 5\n",
    "for e in range(epochs):\n",
    "    train_epoch(e, model=model, trainloader=trainloader, optimizer=optimizer)"
   ]
  },
  {
   "cell_type": "code",
   "execution_count": 64,
   "metadata": {},
   "outputs": [
    {
     "name": "stdout",
     "output_type": "stream",
     "text": [
      "epoch =  100\n",
      "Training loss: 0.28533341143844226\n"
     ]
    }
   ],
   "source": [
    "train_epoch(100, model=model, trainloader=trainloader, optimizer=optimizer)"
   ]
  },
  {
   "cell_type": "markdown",
   "metadata": {},
   "source": [
    "With the network trained, we can check out it's predictions."
   ]
  },
  {
   "cell_type": "code",
   "execution_count": 72,
   "metadata": {},
   "outputs": [
    {
     "data": {
      "image/png": "[encoded data removed]",
      "text/plain": [
       "<Figure size 600x900 with 2 Axes>"
      ]
     },
     "metadata": {},
     "output_type": "display_data"
    }
   ],
   "source": [
    "%matplotlib inline\n",
    "import helper\n",
    "\n",
    "dataiter = iter(trainloader)\n",
    "images, labels = next(dataiter)\n",
    "\n",
    "img = images[0].view(1, 784)\n",
    "# Turn off gradients to speed up this part\n",
    "with torch.no_grad():\n",
    "    logps = model(img)\n",
    "\n",
    "# Output of the network are log-probabilities, need to take exponential for probabilities\n",
    "ps = torch.exp(logps)\n",
    "helper.view_classify(img.view(1, 28, 28), ps)"
   ]
  },
  {
   "cell_type": "code",
   "execution_count": 60,
   "metadata": {},
   "outputs": [],
   "source": [
    "bad = img"
   ]
  },
  {
   "cell_type": "code",
   "execution_count": 66,
   "metadata": {},
   "outputs": [
    {
     "data": {
      "image/png": "[encoded data removed]",
      "text/plain": [
       "<Figure size 600x900 with 2 Axes>"
      ]
     },
     "metadata": {},
     "output_type": "display_data"
    }
   ],
   "source": [
    "bad;\n",
    "\n",
    "%matplotlib inline\n",
    "import helper\n",
    "\n",
    "# Turn off gradients to speed up this part\n",
    "with torch.no_grad():\n",
    "    logps = model(img)\n",
    "\n",
    "# Output of the network are log-probabilities, need to take exponential for probabilities\n",
    "ps = torch.exp(logps)\n",
    "helper.view_classify(bad.view(1, 28, 28), ps)"
   ]
  },
  {
   "cell_type": "markdown",
   "metadata": {},
   "source": [
    "Now our network is brilliant. It can accurately predict the digits in our images. Next up you'll write the code for training a neural network on a more complex dataset."
   ]
  }
 ],
 "metadata": {
  "kernelspec": {
   "display_name": "Python 3 (ipykernel)",
   "language": "python",
   "name": "python3"
  },
  "language_info": {
   "codemirror_mode": {
    "name": "ipython",
    "version": 3
   },
   "file_extension": ".py",
   "mimetype": "text/x-python",
   "name": "python",
   "nbconvert_exporter": "python",
   "pygments_lexer": "ipython3",
   "version": "3.8.10"
  }
 },
 "nbformat": 4,
 "nbformat_minor": 2
}
